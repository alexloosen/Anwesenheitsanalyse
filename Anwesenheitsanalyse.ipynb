{
 "cells": [
  {
   "cell_type": "code",
   "execution_count": 4,
   "id": "3e5e7047",
   "metadata": {},
   "outputs": [],
   "source": [
    "# Drill-Funktionen importieren\n",
    "import drill as drill\n",
    "import modelTuning as modelTuning\n",
    "import prepareData as prepareData\n",
    "import validation as validation\n",
    "import createModel as createModel"
   ]
  },
  {
   "cell_type": "code",
   "execution_count": null,
   "id": "c0b35614",
   "metadata": {},
   "outputs": [],
   "source": [
    "import requests\n",
    "import numpy as np\n",
    "import json\n",
    "import pandas as pd\n",
    "import seaborn as sns\n",
    "import datetime as dt\n",
    "from math import sqrt\n",
    "\n",
    "import matplotlib.pyplot as mplt\n",
    "import plotly.express as plt\n",
    "import plotly.graph_objects as go\n",
    "from plotly.subplots import make_subplots\n",
    "\n",
    "from sklearn.model_selection import train_test_split, RandomizedSearchCV, GridSearchCV\n",
    "from sklearn.naive_bayes import GaussianNB\n",
    "from sklearn.metrics import accuracy_score, confusion_matrix, mean_squared_error, classification_report\n",
    "from sklearn.mixture import GaussianMixture\n",
    "from sklearn.datasets import make_blobs\n",
    "from sklearn.tree import DecisionTreeClassifier\n",
    "from sklearn.ensemble import BaggingClassifier, GradientBoostingClassifier\n",
    "from sklearn.ensemble import RandomForestClassifier\n",
    "from sklearn.svm import SVC\n",
    "from sklearn.datasets import load_digits\n",
    "from sklearn import metrics\n",
    "from sklearn import preprocessing\n",
    "from sklearn.decomposition import PCA\n",
    "\n",
    "import tensorflow as tf\n",
    "from keras.models import Sequential\n",
    "from keras.layers import Dense\n",
    "from keras.layers import LSTM\n",
    "from keras.layers import Dropout\n",
    "from keras.layers import SpatialDropout1D\n",
    "from sklearn.preprocessing import MinMaxScaler\n",
    "\n",
    "pd.options.mode.chained_assignment = None  # default='warn'"
   ]
  },
  {
   "cell_type": "code",
   "execution_count": null,
   "id": "d48840f4",
   "metadata": {},
   "outputs": [],
   "source": [
    "#rooms = {'0':'Daniel', '1':'Felix N#2','2':'Calvin','3':'bigDataLab',\n",
    "#         '4':'FelixAkku', '7':'Lukasbuero','9':'Felix B. #1','10':'Felix N #1'}\n",
    "\n",
    "#for room in rooms:\n",
    "#    print('Processing ' + rooms[room])\n",
    "#    df = pd.DataFrame\n",
    "#    df = drill.get_PIR_data(room=room, presence=True)\n",
    "#    if not df.empty:\n",
    "#        df.to_json('data\\\\' + room + '.json')"
   ]
  },
  {
   "cell_type": "code",
   "execution_count": null,
   "id": "8ab7b9a1",
   "metadata": {},
   "outputs": [],
   "source": [
    "#df = drill.get_PIR_data(room='H215', presence=True)\n",
    "#df.to_json('data\\H215.json')\n",
    "#df = drill.get_PIR_data(room='H216', presence=True)\n",
    "#df.to_json('data\\H216.json')\n",
    "#df = drill.get_PIR_data(room='H217', presence=True)\n",
    "#df.to_json('data\\H217.json')\n",
    "#df = drill.get_PIR_data('dfs', False)\n",
    "#df.to_json('data\\test.json')"
   ]
  },
  {
   "cell_type": "code",
   "execution_count": null,
   "id": "9358418d",
   "metadata": {},
   "outputs": [],
   "source": [
    "df = pd.read_json('data\\\\H217_.json') \n",
    "df_comp = pd.read_json('data\\\\living_room.json')"
   ]
  },
  {
   "cell_type": "code",
   "execution_count": null,
   "id": "775454c6",
   "metadata": {},
   "outputs": [],
   "source": [
    "#plt.scatter(df, x='timestamp', y='co2_ppm', color='presence')"
   ]
  },
  {
   "cell_type": "code",
   "execution_count": null,
   "id": "7e5e9c5f",
   "metadata": {},
   "outputs": [],
   "source": [
    "df = prepareData.preProcessDataset(df)\n",
    "df_comp = prepareData.preProcessDataset(df_comp)"
   ]
  },
  {
   "cell_type": "code",
   "execution_count": null,
   "id": "0fb58850",
   "metadata": {},
   "outputs": [],
   "source": [
    "#plt.scatter(df_new, x='timestamp', y='co2_ppm', color='presence')"
   ]
  },
  {
   "cell_type": "code",
   "execution_count": null,
   "id": "fcee49f2",
   "metadata": {
    "scrolled": true
   },
   "outputs": [],
   "source": [
    "# timestamp, presence, temperatur und humidity entfernen\n",
    "# temp/humid erhoehen Genauigkeit deutlich, da relativ unverlaesslich -> von zu vielen aeusseren Faktoren abhaengig\n",
    "df_timestamp = df_new['timestamp']\n",
    "y_presence = df_new['presence']\n",
    "X_presence = df_new.drop(['timestamp', 'second', 'presence', 'temperature_celsius', 'relative_humidity_percent'], axis=1)\n",
    "#X_presence = X_presence.drop(['second_sin', 'second_cos'], axis=1)\n",
    "\n",
    "Xtrain, Xtest, ytrain, ytest = train_test_split(X_presence, y_presence, test_size=0.2, random_state=1, shuffle=False)"
   ]
  },
  {
   "cell_type": "code",
   "execution_count": null,
   "id": "ec61997b",
   "metadata": {},
   "outputs": [],
   "source": [
    "# shift des trainings-sets um n minuten in die Vergangenheit\n",
    "# -> Test ob Model auch in die Zukunft Erwartungen treffen kann\n",
    "#ytrain = ytrain.shift(-5)\n",
    "#ytrain = ytrain.replace(np.nan, 0)"
   ]
  },
  {
   "cell_type": "code",
   "execution_count": null,
   "id": "301e2e94",
   "metadata": {},
   "outputs": [],
   "source": [
    "# Create Classifiers and save to disk\n",
    "#modelClass = RandomForestClassifier()\n",
    "#modelClass.fit(Xtrain, ytrain)\n",
    "#modelTuning.saveModel(modelClass, 'models\\RFC.mod')\n",
    "\n",
    "#modelClass = SVC()\n",
    "#modelClass.fit(Xtrain, ytrain)\n",
    "#modelTuning.saveModel(modelClass, 'models\\SVC.mod') \n",
    "\n",
    "#modelClass = GradientBoostingClassifier()\n",
    "#modelClass.fit(Xtrain, ytrain)\n",
    "#modelTuning.saveModel(modelClass, 'models\\GBC.mod') \n",
    "\n",
    "#modelClass = BaggingClassifier()\n",
    "#modelClass.fit(Xtrain, ytrain)\n",
    "#modelTuning.saveModel(modelClass, 'models\\BC.mod') "
   ]
  },
  {
   "cell_type": "code",
   "execution_count": null,
   "id": "d6e351f1",
   "metadata": {},
   "outputs": [],
   "source": [
    "model = modelTuning.loadModel('models\\RFC.mod')\n",
    "ypred = model.predict(Xtest)\n",
    "rf_base_accuracy = modelTuning.evaluateClassifier(modelClass, X_presence, y_presence)\n",
    "print(rf_base_accuracy)"
   ]
  },
  {
   "cell_type": "code",
   "execution_count": null,
   "id": "a19f7822",
   "metadata": {
    "scrolled": true
   },
   "outputs": [],
   "source": [
    "print(classification_report(ytest, ypred))"
   ]
  },
  {
   "cell_type": "code",
   "execution_count": null,
   "id": "c473aef5",
   "metadata": {},
   "outputs": [],
   "source": [
    "df_valid_class = Xtest.copy()\n",
    "df_valid_class['timestamp'] = df_timestamp\n",
    "df_valid_class['prediction'] = ypred\n",
    "df_valid_class['co2_ppm'] = df_new['co2_ppm']\n",
    "\n",
    "plt.scatter(df_valid_class, x='timestamp', y='co2_ppm', color='prediction')"
   ]
  },
  {
   "cell_type": "code",
   "execution_count": null,
   "id": "b638804d",
   "metadata": {},
   "outputs": [],
   "source": [
    "# plot feature-importance\n",
    "if (model.feature_importances_.any):\n",
    "    feature_imp = pd.Series(modelClass.feature_importances_,index=Xtrain.columns).sort_values(ascending=False)\n",
    "    # Creating a bar plot\n",
    "    ax = sns.barplot(x=feature_imp, y=feature_imp.index)\n",
    "    ax.set(xlabel='Importance', ylabel='Feature')"
   ]
  },
  {
   "cell_type": "code",
   "execution_count": null,
   "id": "3756f591",
   "metadata": {},
   "outputs": [],
   "source": [
    "modelPCA = PCA(n_components=2)\n",
    "modelPCA.fit(X_presence)\n",
    "X_2D = modelPCA.transform(X_presence)\n",
    "\n",
    "df_new['PCA1'] = X_2D[:, 0]\n",
    "df_new['PCA2'] = X_2D[:, 1]\n",
    "sns.lmplot(x=\"PCA1\", y=\"PCA2\", hue='presence', col='presence', data=df_new, fit_reg=False)"
   ]
  },
  {
   "cell_type": "code",
   "execution_count": null,
   "id": "977f5aa4",
   "metadata": {},
   "outputs": [],
   "source": [
    "# unsupervised learning: Clustering\n",
    "modelKM = GaussianMixture(n_components=2, covariance_type='full')\n",
    "modelKM.fit(X_presence)\n",
    "y_ggm = model.predict(X_presence)\n",
    "\n",
    "df_new['cluster'] = y_ggm\n",
    "sns.lmplot(x=\"PCA1\", y=\"PCA2\", data=df_new, hue='presence', col='cluster', fit_reg=False)"
   ]
  },
  {
   "cell_type": "code",
   "execution_count": null,
   "id": "3ee7a4c9",
   "metadata": {},
   "outputs": [],
   "source": [
    "# falsche Werte im November korrigieren\n",
    "df_comp.dropna(axis=0, how='any', thresh=None, subset=None, inplace=True)\n",
    "df_timestamp_comp = df_comp['timestamp']\n",
    "df_comp.drop(['timestamp', 'second'], axis=1, inplace=True)#, 'second', 'presence', 'temperature_celsius', 'relative_humidity_percent'], axis=1, inplace=True)\n",
    "#df_comp.drop(['second_sin', 'second_cos'], axis=1, inplace=True)\n",
    "ypred_comp = model.predict(df_comp)\n",
    "\n",
    "df_valid_comp = df_comp.copy()\n",
    "df_valid_comp['timestamp'] = df_timestamp_comp\n",
    "df_valid_comp['prediction'] = ypred_comp\n",
    "df_valid_comp['co2_ppm'] = df_comp['co2_ppm']"
   ]
  },
  {
   "cell_type": "code",
   "execution_count": null,
   "id": "f64cbb1e",
   "metadata": {
    "scrolled": false
   },
   "outputs": [],
   "source": [
    "plt.scatter(df_valid_comp, x='timestamp', y='co2_ppm', color='prediction')"
   ]
  },
  {
   "cell_type": "code",
   "execution_count": null,
   "id": "4f5a62a0",
   "metadata": {},
   "outputs": [],
   "source": [
    "#modelTuning.parameterTuning('RF', Xtrain, ytrain, Xtest, ytest, X_presence, y_presence)\n",
    "#modelTuning.parameterTuning('GB', Xtrain, ytrain, Xtest, ytest, X_presence, y_presence)\n",
    "#modelTuning.parameterTuning('SVC', Xtrain, ytrain, Xtest, ytest, X_presence, y_presence)\n",
    "#modelTuning.parameterTuning('KNN', Xtrain, ytrain, Xtest, ytest, X_presence, y_presence)"
   ]
  },
  {
   "cell_type": "code",
   "execution_count": null,
   "id": "33382f2b",
   "metadata": {},
   "outputs": [],
   "source": [
    "X_presence, scaler = prepareData.normalize_min_max(X_presence)\n",
    "#Xtest, _ = normalize_min_max(Xtrain, scaler)"
   ]
  },
  {
   "cell_type": "code",
   "execution_count": null,
   "id": "fbd52a07",
   "metadata": {
    "scrolled": true
   },
   "outputs": [],
   "source": [
    "timesteps = 25\n",
    "X, y = prepareData.reshape_data_for_LSTM(X_presence, y_presence, timesteps)"
   ]
  },
  {
   "cell_type": "code",
   "execution_count": null,
   "id": "d6f806fe",
   "metadata": {},
   "outputs": [],
   "source": [
    "Xtrain, Xtest, ytrain, ytest = train_test_split(X, y, test_size=0.2, random_state=1, shuffle=False)"
   ]
  },
  {
   "cell_type": "code",
   "execution_count": null,
   "id": "7da0665a",
   "metadata": {},
   "outputs": [],
   "source": [
    "model = createModel.createLSTM(Xtrain)\n",
    "model.summary()"
   ]
  },
  {
   "cell_type": "code",
   "execution_count": null,
   "id": "ac2d1596",
   "metadata": {},
   "outputs": [],
   "source": [
    "history_lstm = model.fit(Xtrain, ytrain, epochs=10, batch_size=1, verbose=1,validation_data= (Xtest, ytest))"
   ]
  },
  {
   "cell_type": "code",
   "execution_count": null,
   "id": "8617132a",
   "metadata": {
    "scrolled": true
   },
   "outputs": [],
   "source": [
    "model = createModel.createNN(Xtrain)\n",
    "model.summary()"
   ]
  },
  {
   "cell_type": "code",
   "execution_count": null,
   "id": "db68d046",
   "metadata": {},
   "outputs": [],
   "source": [
    "history = model.fit(Xtrain, ytrain, epochs=100, validation_split=0.2)"
   ]
  },
  {
   "cell_type": "code",
   "execution_count": null,
   "id": "7f0a8a29",
   "metadata": {},
   "outputs": [],
   "source": [
    "val_loss, val_acc = model.evaluate(X, y)\n",
    "print(val_loss, val_acc)"
   ]
  },
  {
   "cell_type": "code",
   "execution_count": null,
   "id": "4e643ba7",
   "metadata": {},
   "outputs": [],
   "source": [
    "mplt = validation.plotHistoryAccuracy(history_lstm)\n",
    "mplt.show()"
   ]
  },
  {
   "cell_type": "code",
   "execution_count": null,
   "id": "d633b588",
   "metadata": {},
   "outputs": [],
   "source": [
    "mplt = validation.plotHistoryLoss(history_lstm)\n",
    "mplt.show()"
   ]
  },
  {
   "cell_type": "code",
   "execution_count": null,
   "id": "6d7862f5",
   "metadata": {},
   "outputs": [],
   "source": [
    "mplt = validation.plotHistoryAccuracy(history)\n",
    "mplt.show()"
   ]
  },
  {
   "cell_type": "code",
   "execution_count": null,
   "id": "9027fd28",
   "metadata": {},
   "outputs": [],
   "source": [
    "mplt = validation.plotHistoryLoss(history)\n",
    "mplt.show()"
   ]
  }
 ],
 "metadata": {
  "kernelspec": {
   "display_name": "Python 3",
   "language": "python",
   "name": "python3"
  },
  "language_info": {
   "codemirror_mode": {
    "name": "ipython",
    "version": 3
   },
   "file_extension": ".py",
   "mimetype": "text/x-python",
   "name": "python",
   "nbconvert_exporter": "python",
   "pygments_lexer": "ipython3",
   "version": "3.8.8"
  }
 },
 "nbformat": 4,
 "nbformat_minor": 5
}
