{
 "cells": [
  {
   "cell_type": "code",
   "execution_count": null,
   "id": "95cab344",
   "metadata": {},
   "outputs": [],
   "source": [
    "import requests\n",
    "import numpy as np\n",
    "import json\n",
    "import pandas as pd\n",
    "import matplotlib.pyplot as mplt\n",
    "import plotly.express as plt\n",
    "import plotly.graph_objects as go\n",
    "from plotly.subplots import make_subplots\n",
    "import seaborn as sns\n",
    "import datetime as dt\n",
    "from sklearn.model_selection import train_test_split\n",
    "from sklearn.naive_bayes import GaussianNB\n",
    "from sklearn.metrics import accuracy_score, confusion_matrix\n",
    "from sklearn.mixture import GaussianMixture\n",
    "from sklearn.datasets import make_blobs\n",
    "from sklearn.tree import DecisionTreeClassifier\n",
    "from sklearn.ensemble import BaggingClassifier\n",
    "from sklearn.ensemble import RandomForestClassifier, RandomForestRegressor\n",
    "from sklearn.datasets import load_digits\n",
    "from sklearn import metrics\n",
    "pd.options.mode.chained_assignment = None  # default='warn'"
   ]
  },
  {
   "cell_type": "code",
   "execution_count": null,
   "id": "9a1a01df",
   "metadata": {},
   "outputs": [],
   "source": [
    "def connect_drill(query, caching=True, chunk_size: int = 0):\n",
    "    #username = os.getenv(\"DRILLUSERNAME\")\n",
    "    host = 'https://proxima.bigdata.fh-aachen.de:8047'\n",
    "    username = 'al7739s'\n",
    "    password = 'tWtx4UYhTdUbPHumX3VixMhdi'\n",
    "    headers = {'Content-Type': 'application/json',\n",
    "               'Authorization': '%s:%s' % (username, password)}\n",
    "    #headers = {'Authorization': username + ':' + password}\n",
    "    if caching:\n",
    "        headers[\"Cache-Control\"] = \"max-age=\" + \"1440\"\n",
    "    else:\n",
    "        headers[\"Cache-Control\"] = \"max-age=\" + \"0\"\n",
    "    #if chunk_size > 0:\n",
    "        #headers[\"format\"] = \"chunks:\" + str(chunk_size)\n",
    "    data = {'query': \"{q}\".format(q=query)}\n",
    "\n",
    "    try:\n",
    "        result = requests.post(host + '/query', json=data, headers=headers)\n",
    "    except Exception as e:\n",
    "        print(\"The drill-proxy is not reachable. Please check if you are in the FH-Aachen network.\")\n",
    "        raise (e)\n",
    "\n",
    "    data = None\n",
    "    try:\n",
    "        data = pd.read_json(result.text)\n",
    "        if data.empty:\n",
    "            print('Result of query is empty!')\n",
    "            print('Query was: ' + query)\n",
    "    except ValueError:\n",
    "        print(\"Something went wrong when converting the json string from the datasource to a pandas DataFrame.\")\n",
    "        print(result.text)\n",
    "    return data"
   ]
  },
  {
   "cell_type": "code",
   "execution_count": null,
   "id": "8b97eb61",
   "metadata": {},
   "outputs": [],
   "source": [
    "def get_PIR_presences(room: str = \"H217\"):\n",
    "    dict_rooms = {'H217': 'Elsen', 'H216': 'Galla', 'H215': 'Remmy'}\n",
    "    room = dict_rooms[room]\n",
    "    \n",
    "    query = \"\"\"SELECT `timestamp`,`room`, `presence`, `co2_ppm`, `temperature_celsius`, `relative_humidity_percent` \n",
    "    FROM ipenv.data.`sensor_data` \n",
    "    WHERE `room` LIKE '{room}' \n",
    "    AND `timestamp` > 1627776000\n",
    "    AND `timestamp` < 1634346061\n",
    "    ORDER BY `timestamp` ASC\n",
    "    LIMIT 100000000\"\"\".format(room=room)\n",
    "    \n",
    "    pir_data = connect_drill(query, caching=True)\n",
    "    \n",
    "    pir_data[\"timestamp\"].dt.tz_localize('Europe/Berlin', ambiguous=True, nonexistent='shift_forward')\n",
    "    pir_data[\"timestamp\"] = pir_data[\"timestamp\"] + pd.Timedelta(hours=2)\n",
    "\n",
    "    pir_data[\"presence\"] = pir_data[\"presence\"].astype(int)\n",
    "    pir_data.head()\n",
    "    \n",
    "    pir_data = pir_data.groupby(pd.Grouper(key=\"timestamp\", freq=\"5min\")).mean()\\\n",
    "        .round(0).reset_index(drop=False)\n",
    "    \n",
    "    return pir_data"
   ]
  },
  {
   "cell_type": "code",
   "execution_count": null,
   "id": "75e3073d",
   "metadata": {},
   "outputs": [],
   "source": [
    "def encode_cyclical(data, col, max_val):\n",
    "    data[col + '_sin'] = np.sin(2 * np.pi * data[col]/max_val)\n",
    "    data[col + '_cos'] = np.cos(2 * np.pi * data[col]/max_val)\n",
    "    return data"
   ]
  },
  {
   "cell_type": "code",
   "execution_count": null,
   "id": "70cdf8f5",
   "metadata": {
    "scrolled": false
   },
   "outputs": [],
   "source": [
    "#df = get_PIR_presences()"
   ]
  },
  {
   "cell_type": "code",
   "execution_count": null,
   "id": "7a228061",
   "metadata": {
    "scrolled": true
   },
   "outputs": [],
   "source": [
    "df"
   ]
  },
  {
   "cell_type": "code",
   "execution_count": null,
   "id": "bada102e",
   "metadata": {},
   "outputs": [],
   "source": [
    "plt.scatter(df, x='timestamp', y='co2_ppm', color='presence')"
   ]
  },
  {
   "cell_type": "code",
   "execution_count": null,
   "id": "4a17ad76",
   "metadata": {},
   "outputs": [],
   "source": [
    "df.dtypes"
   ]
  },
  {
   "cell_type": "code",
   "execution_count": null,
   "id": "3c37859d",
   "metadata": {
    "scrolled": true
   },
   "outputs": [],
   "source": [
    "df_test = df\n",
    "df_test = df_test.assign(hoursMinutesSeconds=lambda d: (d['timestamp'].dt.hour.astype('int') * 10000 + \n",
    "                                                        d['timestamp'].dt.minute.astype('int') * 100 + \n",
    "                                                       d['timestamp'].dt.second.astype('int')))\n",
    "\n",
    "df_test['hour_sin'] = np.sin(2 * np.pi * df_test['hoursMinutesSeconds']/235959.0)\n",
    "df_test['hour_cos'] = np.cos(2 * np.pi * df_test['hoursMinutesSeconds']/235959.0)"
   ]
  },
  {
   "cell_type": "code",
   "execution_count": null,
   "id": "2a7d2543",
   "metadata": {},
   "outputs": [],
   "source": [
    "df_test['co2_ppm_deltaOne'] = df_test['co2_ppm'] - df_test.shift(1)['co2_ppm']\n",
    "df_test['co2_ppm_deltaSix'] = df_test['co2_ppm'] - df_test.shift(6)['co2_ppm']\n",
    "df_test['co2_ppm_deltaTwelve'] = df_test['co2_ppm'] - df_test.shift(12)['co2_ppm']"
   ]
  },
  {
   "cell_type": "code",
   "execution_count": null,
   "id": "7ea9e635",
   "metadata": {},
   "outputs": [],
   "source": [
    "df_test"
   ]
  },
  {
   "cell_type": "code",
   "execution_count": null,
   "id": "35e1263b",
   "metadata": {},
   "outputs": [],
   "source": [
    "#df_test['dayOfWeek'] = df['timestamp'].dt.dayofweek\n",
    "#df_test = df_test.drop(df_test[df_test.dayOfWeek > 4].index)"
   ]
  },
  {
   "cell_type": "code",
   "execution_count": null,
   "id": "9fa9500f",
   "metadata": {},
   "outputs": [],
   "source": [
    "# delete outliers with Interquartile Range (IQR) and Tukey's Method\n",
    "x = df_test['co2_ppm']\n",
    "q1 = np.percentile(x, 10)\n",
    "q3 = np.percentile(x, 90)\n",
    "iqr = q3 - q1\n",
    "floor = q1 - 1.5*iqr\n",
    "ceiling = q3 + 1.5*iqr\n",
    "outlier_indices = list(x.index[(x < floor) | (x > ceiling)])\n",
    "outlier_values = list(x[outlier_indices])"
   ]
  },
  {
   "cell_type": "code",
   "execution_count": null,
   "id": "4f1cb637",
   "metadata": {},
   "outputs": [],
   "source": [
    "matplotlib.pyplot.scatter(outlier_indices, outlier_values)\n",
    "matplotlib.pyplot.show()"
   ]
  },
  {
   "cell_type": "code",
   "execution_count": null,
   "id": "2d323f41",
   "metadata": {},
   "outputs": [],
   "source": [
    "df_test = df_test.drop(index=outlier_indices)"
   ]
  },
  {
   "cell_type": "code",
   "execution_count": null,
   "id": "fcee49f2",
   "metadata": {
    "scrolled": true
   },
   "outputs": [],
   "source": [
    "df_test = df_test.dropna(axis=0, how='any', thresh=None, subset=None, inplace=False)\n",
    "#df_timestamp = df_test['timestamp']\n",
    "y_presence = df_test['presence']\n",
    "X_presence = df_test.drop(['timestamp', 'presence', 'temperature_celsius', 'relative_humidity_percent'], axis=1)\n",
    "\n",
    "Xtrain, Xtest, ytrain, ytest = train_test_split(X_presence, y_presence, test_size=0.2, random_state=1, shuffle=False)\n",
    "\n",
    "Xtrain"
   ]
  },
  {
   "cell_type": "code",
   "execution_count": null,
   "id": "3d0d7680",
   "metadata": {},
   "outputs": [],
   "source": [
    "model = RandomForestClassifier(n_estimators=1000)\n",
    "model.fit(Xtrain, ytrain)\n",
    "ypred = model.predict(Xtest)\n",
    "\n",
    "print(metrics.classification_report(ypred, ytest))\n",
    "#y_pred = model.predict(Xtest)\n",
    "accuracy_score(ytest, ypred)"
   ]
  },
  {
   "cell_type": "code",
   "execution_count": null,
   "id": "330b8828",
   "metadata": {},
   "outputs": [],
   "source": [
    "mat = confusion_matrix(ytest, ypred)\n",
    "sns.heatmap(mat.T, square=True, annot=True, fmt='d', cbar=False)\n",
    "mplt.xlabel('true label')\n",
    "mplt.ylabel('predicted label')"
   ]
  },
  {
   "cell_type": "code",
   "execution_count": null,
   "id": "c584c01b",
   "metadata": {
    "scrolled": false
   },
   "outputs": [],
   "source": [
    "df_valid = Xtest.copy()\n",
    "df_valid['timestamp'] = df_timestamp\n",
    "df_valid['prediction'] = ypred\n",
    "df_valid['presence'] = ytest\n",
    "\n",
    "plt.scatter(df_valid, x='timestamp', y='prediction', color='presence')"
   ]
  },
  {
   "cell_type": "code",
   "execution_count": null,
   "id": "6a16e2bb",
   "metadata": {},
   "outputs": [],
   "source": []
  }
 ],
 "metadata": {
  "kernelspec": {
   "display_name": "Python 3",
   "language": "python",
   "name": "python3"
  },
  "language_info": {
   "codemirror_mode": {
    "name": "ipython",
    "version": 3
   },
   "file_extension": ".py",
   "mimetype": "text/x-python",
   "name": "python",
   "nbconvert_exporter": "python",
   "pygments_lexer": "ipython3",
   "version": "3.8.8"
  }
 },
 "nbformat": 4,
 "nbformat_minor": 5
}
