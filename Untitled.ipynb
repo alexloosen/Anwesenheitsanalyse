{
 "cells": [
  {
   "cell_type": "code",
   "execution_count": 43,
   "id": "a50f610e",
   "metadata": {},
   "outputs": [],
   "source": [
    "import requests\n",
    "\n",
    "headers = {\n",
    "    'Authorization': 'al7739s:tWtx4UYhTdUbPHumX3VixMhdi',\n",
    "    'Content-Type': 'application/json',\n",
    "}\n",
    "\n",
    "data = '{\"query\":\"SELECT * FROM dfs.co2meter.sensor_data limit 10\", \"format\":\"json\"}'\n",
    "\n",
    "response = requests.post('https://proxima.bigdata.fh-aachen.de:8047/query', headers=headers, data=data)"
   ]
  },
  {
   "cell_type": "code",
   "execution_count": 44,
   "id": "df03e11f",
   "metadata": {},
   "outputs": [
    {
     "name": "stdout",
     "output_type": "stream",
     "text": [
      "200\n"
     ]
    }
   ],
   "source": [
    "print(response.status_code)"
   ]
  },
  {
   "cell_type": "code",
   "execution_count": 45,
   "id": "1970a6b0",
   "metadata": {},
   "outputs": [
    {
     "name": "stdout",
     "output_type": "stream",
     "text": [
      "{'measurement_count': {'0': 67060, '1': 66879, '2': 350130, '3': 514810, '4': 40226, '5': 716518, '6': 40220, '7': 67061, '8': 350131, '9': 350132}, 'serial_number': {'0': 's_8caab57cc961_284337', '1': 's_10521c01cf19_262520', '2': 's_8caab57a6dd9_288065', '3': 's_d8bfc014724e_262793', '4': 's_8caab57c3e19_282028', '5': 's_e8db84c5f771_300390', '6': 's_3c6105d3abae_299589', '7': 's_8caab57cc961_284337', '8': 's_8caab57a6dd9_288065', '9': 's_8caab57a6dd9_288065'}, 'version': {'0': '1.0.0', '1': '1.0.0', '2': '0.9.8', '3': '0.9.27', '4': '1.0.0', '5': '0.9.27', '6': '1.0.0', '7': '1.0.0', '8': '0.9.8', '9': '0.9.8'}, 'co2_ppm': {'0': 418, '1': 441, '2': 569, '3': 355, '4': 664, '5': 396, '6': 696, '7': 418, '8': 569, '9': 569}, 'temperature_celsius': {'0': 24.0, '1': 24.0, '2': 21.0, '3': 20.0, '4': 22.0, '5': 23.0, '6': 23.0, '7': 24.0, '8': 21.0, '9': 21.0}, 'relative_humidity_percent': {'0': 47.0, '1': 48.0, '2': 65.0, '3': 65.0, '4': 59.0, '5': 54.0, '6': 54.0, '7': 47.0, '8': 65.0, '9': 65.0}, 'timestamp': {'0': 1622937600, '1': 1622937601, '2': 1622937601, '3': 1622937601, '4': 1622937602, '5': 1622937602, '6': 1622937604, '7': 1622937605, '8': 1622937606, '9': 1622937611}}\n"
     ]
    }
   ],
   "source": [
    "print(response.json())"
   ]
  },
  {
   "cell_type": "code",
   "execution_count": 46,
   "id": "98864e47",
   "metadata": {},
   "outputs": [
    {
     "name": "stdout",
     "output_type": "stream",
     "text": [
      "+--------------------+--------------------+-------------------------+--------------------+--------------------+--------------------+--------------------+\n",
      "|             co2_ppm|   measurement_count|relative_humidity_percent|       serial_number| temperature_celsius|           timestamp|             version|\n",
      "+--------------------+--------------------+-------------------------+--------------------+--------------------+--------------------+--------------------+\n",
      "|{418, 441, 569, 3...|{67060, 66879, 35...|     {47.0, 48.0, 65.0...|{s_8caab57cc961_2...|{24.0, 24.0, 21.0...|{1622937600, 1622...|{1.0.0, 1.0.0, 0....|\n",
      "+--------------------+--------------------+-------------------------+--------------------+--------------------+--------------------+--------------------+\n",
      "\n"
     ]
    }
   ],
   "source": [
    "import findspark\n",
    "findspark.init()\n",
    "\n",
    "from pyspark.sql import SparkSession\n",
    "spark = SparkSession.builder.appName('Basics').getOrCreate()\n",
    "\n",
    "import json\n",
    "with open('data.txt', 'w') as outfile:\n",
    "    json.dump(response.json(), outfile)\n",
    "\n",
    "df = spark.read.json('data.txt')\n",
    "df.show()"
   ]
  },
  {
   "cell_type": "code",
   "execution_count": 47,
   "id": "016b24f6",
   "metadata": {
    "scrolled": true
   },
   "outputs": [
    {
     "data": {
      "text/plain": [
       "['co2_ppm',\n",
       " 'measurement_count',\n",
       " 'relative_humidity_percent',\n",
       " 'serial_number',\n",
       " 'temperature_celsius',\n",
       " 'timestamp',\n",
       " 'version']"
      ]
     },
     "execution_count": 47,
     "metadata": {},
     "output_type": "execute_result"
    }
   ],
   "source": [
    "df.columns"
   ]
  },
  {
   "cell_type": "code",
   "execution_count": 48,
   "id": "05ebcc6c",
   "metadata": {},
   "outputs": [
    {
     "name": "stdout",
     "output_type": "stream",
     "text": [
      "+--------------------+-------------------------+--------------------+--------------------+\n",
      "|             co2_ppm|relative_humidity_percent| temperature_celsius|           timestamp|\n",
      "+--------------------+-------------------------+--------------------+--------------------+\n",
      "|{418, 441, 569, 3...|     {47.0, 48.0, 65.0...|{24.0, 24.0, 21.0...|{1622937600, 1622...|\n",
      "+--------------------+-------------------------+--------------------+--------------------+\n",
      "\n"
     ]
    }
   ],
   "source": [
    "df.select(['co2_ppm', 'relative_humidity_percent', 'temperature_celsius', 'timestamp']).show()"
   ]
  }
 ],
 "metadata": {
  "kernelspec": {
   "display_name": "Python 3",
   "language": "python",
   "name": "python3"
  },
  "language_info": {
   "codemirror_mode": {
    "name": "ipython",
    "version": 3
   },
   "file_extension": ".py",
   "mimetype": "text/x-python",
   "name": "python",
   "nbconvert_exporter": "python",
   "pygments_lexer": "ipython3",
   "version": "3.8.8"
  }
 },
 "nbformat": 4,
 "nbformat_minor": 5
}
