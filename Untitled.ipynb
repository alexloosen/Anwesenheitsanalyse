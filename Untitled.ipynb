{
 "cells": [
  {
   "cell_type": "code",
   "execution_count": 18,
   "id": "95cab344",
   "metadata": {},
   "outputs": [
    {
     "name": "stdout",
     "output_type": "stream",
     "text": [
      "200\n"
     ]
    }
   ],
   "source": [
    "import requests\n",
    "import numpy as np\n",
    "import json\n",
    "import pandas as pd\n",
    "\n",
    "headers = {\n",
    "    'Authorization': 'al7739s:tWtx4UYhTdUbPHumX3VixMhdi',\n",
    "    'Content-Type': 'application/json',\n",
    "}\n",
    "\n",
    "data = '{\"query\":\"SELECT * FROM dfs.co2meter.sensor_data limit 2000000\", \"format\":\"json\"}'\n",
    "\n",
    "response = requests.post('https://proxima.bigdata.fh-aachen.de:8047/query', headers=headers, data=data)\n",
    "print(response.status_code)"
   ]
  },
  {
   "cell_type": "code",
   "execution_count": null,
   "id": "c3e2c840",
   "metadata": {},
   "outputs": [],
   "source": [
    "def encode_cyclical(data, col, max_val):\n",
    "    data[col + '_sin'] = np.sin(2 * np.pi * data[col]/max_val)\n",
    "    data[col + '_cos'] = np.cos(2 * np.pi * data[col]/max_val)\n",
    "    return data"
   ]
  },
  {
   "cell_type": "code",
   "execution_count": 19,
   "id": "a113ae61",
   "metadata": {},
   "outputs": [],
   "source": [
    "#import findspark\n",
    "#findspark.init()\n",
    "\n",
    "#from pyspark.sql import SparkSession\n",
    "#spark = SparkSession.builder.appName('Basics').getOrCreate()\n",
    "\n",
    "with open('data.json', 'w') as outfile:\n",
    "    json.dump(response.json(), outfile)"
   ]
  },
  {
   "cell_type": "code",
   "execution_count": 20,
   "id": "069ebb9e",
   "metadata": {},
   "outputs": [],
   "source": [
    "df = pd.read_json('data.json')"
   ]
  },
  {
   "cell_type": "code",
   "execution_count": 21,
   "id": "6308dcf6",
   "metadata": {
    "scrolled": true
   },
   "outputs": [
    {
     "data": {
      "text/html": [
       "<div>\n",
       "<style scoped>\n",
       "    .dataframe tbody tr th:only-of-type {\n",
       "        vertical-align: middle;\n",
       "    }\n",
       "\n",
       "    .dataframe tbody tr th {\n",
       "        vertical-align: top;\n",
       "    }\n",
       "\n",
       "    .dataframe thead th {\n",
       "        text-align: right;\n",
       "    }\n",
       "</style>\n",
       "<table border=\"1\" class=\"dataframe\">\n",
       "  <thead>\n",
       "    <tr style=\"text-align: right;\">\n",
       "      <th></th>\n",
       "      <th>measurement_count</th>\n",
       "      <th>serial_number</th>\n",
       "      <th>version</th>\n",
       "      <th>co2_ppm</th>\n",
       "      <th>temperature_celsius</th>\n",
       "      <th>relative_humidity_percent</th>\n",
       "      <th>timestamp</th>\n",
       "    </tr>\n",
       "  </thead>\n",
       "  <tbody>\n",
       "    <tr>\n",
       "      <th>0</th>\n",
       "      <td>78462</td>\n",
       "      <td>s_e8db84c5f771_300390</td>\n",
       "      <td>0.9.27</td>\n",
       "      <td>1543.0</td>\n",
       "      <td>21.0</td>\n",
       "      <td>45.0</td>\n",
       "      <td>2021-04-29 00:00:06</td>\n",
       "    </tr>\n",
       "    <tr>\n",
       "      <th>1</th>\n",
       "      <td>18711</td>\n",
       "      <td>s_d8bfc014724e_262793</td>\n",
       "      <td>0.9.27</td>\n",
       "      <td>1131.0</td>\n",
       "      <td>21.0</td>\n",
       "      <td>38.0</td>\n",
       "      <td>2021-04-29 00:00:07</td>\n",
       "    </tr>\n",
       "    <tr>\n",
       "      <th>2</th>\n",
       "      <td>171804</td>\n",
       "      <td>s_8caab57a6dd9_288065</td>\n",
       "      <td>0.9.8</td>\n",
       "      <td>601.0</td>\n",
       "      <td>14.0</td>\n",
       "      <td>49.0</td>\n",
       "      <td>2021-04-29 00:00:10</td>\n",
       "    </tr>\n",
       "    <tr>\n",
       "      <th>3</th>\n",
       "      <td>78463</td>\n",
       "      <td>s_3c6105d3abae_299589</td>\n",
       "      <td>0.9.27</td>\n",
       "      <td>924.0</td>\n",
       "      <td>22.0</td>\n",
       "      <td>35.0</td>\n",
       "      <td>2021-04-29 00:00:10</td>\n",
       "    </tr>\n",
       "    <tr>\n",
       "      <th>4</th>\n",
       "      <td>78463</td>\n",
       "      <td>s_e8db84c5f771_300390</td>\n",
       "      <td>0.9.27</td>\n",
       "      <td>1543.0</td>\n",
       "      <td>21.0</td>\n",
       "      <td>45.0</td>\n",
       "      <td>2021-04-29 00:00:11</td>\n",
       "    </tr>\n",
       "    <tr>\n",
       "      <th>...</th>\n",
       "      <td>...</td>\n",
       "      <td>...</td>\n",
       "      <td>...</td>\n",
       "      <td>...</td>\n",
       "      <td>...</td>\n",
       "      <td>...</td>\n",
       "      <td>...</td>\n",
       "    </tr>\n",
       "    <tr>\n",
       "      <th>4995</th>\n",
       "      <td>515039</td>\n",
       "      <td>s_d8bfc014724e_262793</td>\n",
       "      <td>0.9.27</td>\n",
       "      <td>347.0</td>\n",
       "      <td>20.0</td>\n",
       "      <td>65.0</td>\n",
       "      <td>2021-06-06 00:19:37</td>\n",
       "    </tr>\n",
       "    <tr>\n",
       "      <th>4996</th>\n",
       "      <td>67097</td>\n",
       "      <td>s_10521c01cf19_262520</td>\n",
       "      <td>1.0.0</td>\n",
       "      <td>443.0</td>\n",
       "      <td>24.0</td>\n",
       "      <td>48.0</td>\n",
       "      <td>2021-06-06 00:19:38</td>\n",
       "    </tr>\n",
       "    <tr>\n",
       "      <th>4997</th>\n",
       "      <td>716747</td>\n",
       "      <td>s_e8db84c5f771_300390</td>\n",
       "      <td>0.9.27</td>\n",
       "      <td>414.0</td>\n",
       "      <td>23.0</td>\n",
       "      <td>54.0</td>\n",
       "      <td>2021-06-06 00:19:38</td>\n",
       "    </tr>\n",
       "    <tr>\n",
       "      <th>4998</th>\n",
       "      <td>40444</td>\n",
       "      <td>s_8caab57c3e19_282028</td>\n",
       "      <td>1.0.0</td>\n",
       "      <td>663.0</td>\n",
       "      <td>22.0</td>\n",
       "      <td>59.0</td>\n",
       "      <td>2021-06-06 00:19:39</td>\n",
       "    </tr>\n",
       "    <tr>\n",
       "      <th>4999</th>\n",
       "      <td>67279</td>\n",
       "      <td>s_8caab57cc961_284337</td>\n",
       "      <td>1.0.0</td>\n",
       "      <td>412.0</td>\n",
       "      <td>24.0</td>\n",
       "      <td>46.0</td>\n",
       "      <td>2021-06-06 00:19:40</td>\n",
       "    </tr>\n",
       "  </tbody>\n",
       "</table>\n",
       "<p>5000 rows × 7 columns</p>\n",
       "</div>"
      ],
      "text/plain": [
       "      measurement_count          serial_number version  co2_ppm  \\\n",
       "0                 78462  s_e8db84c5f771_300390  0.9.27   1543.0   \n",
       "1                 18711  s_d8bfc014724e_262793  0.9.27   1131.0   \n",
       "2                171804  s_8caab57a6dd9_288065   0.9.8    601.0   \n",
       "3                 78463  s_3c6105d3abae_299589  0.9.27    924.0   \n",
       "4                 78463  s_e8db84c5f771_300390  0.9.27   1543.0   \n",
       "...                 ...                    ...     ...      ...   \n",
       "4995             515039  s_d8bfc014724e_262793  0.9.27    347.0   \n",
       "4996              67097  s_10521c01cf19_262520   1.0.0    443.0   \n",
       "4997             716747  s_e8db84c5f771_300390  0.9.27    414.0   \n",
       "4998              40444  s_8caab57c3e19_282028   1.0.0    663.0   \n",
       "4999              67279  s_8caab57cc961_284337   1.0.0    412.0   \n",
       "\n",
       "      temperature_celsius  relative_humidity_percent           timestamp  \n",
       "0                    21.0                       45.0 2021-04-29 00:00:06  \n",
       "1                    21.0                       38.0 2021-04-29 00:00:07  \n",
       "2                    14.0                       49.0 2021-04-29 00:00:10  \n",
       "3                    22.0                       35.0 2021-04-29 00:00:10  \n",
       "4                    21.0                       45.0 2021-04-29 00:00:11  \n",
       "...                   ...                        ...                 ...  \n",
       "4995                 20.0                       65.0 2021-06-06 00:19:37  \n",
       "4996                 24.0                       48.0 2021-06-06 00:19:38  \n",
       "4997                 23.0                       54.0 2021-06-06 00:19:38  \n",
       "4998                 22.0                       59.0 2021-06-06 00:19:39  \n",
       "4999                 24.0                       46.0 2021-06-06 00:19:40  \n",
       "\n",
       "[5000 rows x 7 columns]"
      ]
     },
     "execution_count": 21,
     "metadata": {},
     "output_type": "execute_result"
    }
   ],
   "source": [
    "df.head(5000)"
   ]
  },
  {
   "cell_type": "code",
   "execution_count": 22,
   "id": "4a17ad76",
   "metadata": {},
   "outputs": [],
   "source": [
    "selectedData = df[['measurement_count', 'co2_ppm','temperature_celsius', 'relative_humidity_percent', 'timestamp']]\n",
    "cols = ['measurement_count', 'co2_ppm','temperature_celsius', 'relative_humidity_percent', 'timestamp']\n",
    "dataSet = selectedData[cols]"
   ]
  },
  {
   "cell_type": "code",
   "execution_count": 23,
   "id": "8f417afd",
   "metadata": {},
   "outputs": [
    {
     "data": {
      "text/html": [
       "<div>\n",
       "<style scoped>\n",
       "    .dataframe tbody tr th:only-of-type {\n",
       "        vertical-align: middle;\n",
       "    }\n",
       "\n",
       "    .dataframe tbody tr th {\n",
       "        vertical-align: top;\n",
       "    }\n",
       "\n",
       "    .dataframe thead th {\n",
       "        text-align: right;\n",
       "    }\n",
       "</style>\n",
       "<table border=\"1\" class=\"dataframe\">\n",
       "  <thead>\n",
       "    <tr style=\"text-align: right;\">\n",
       "      <th></th>\n",
       "      <th>measurement_count</th>\n",
       "      <th>co2_ppm</th>\n",
       "      <th>temperature_celsius</th>\n",
       "      <th>relative_humidity_percent</th>\n",
       "      <th>timestamp</th>\n",
       "    </tr>\n",
       "  </thead>\n",
       "  <tbody>\n",
       "    <tr>\n",
       "      <th>0</th>\n",
       "      <td>78462</td>\n",
       "      <td>1543.0</td>\n",
       "      <td>21.0</td>\n",
       "      <td>45.0</td>\n",
       "      <td>2021-04-29 00:00:06</td>\n",
       "    </tr>\n",
       "    <tr>\n",
       "      <th>1</th>\n",
       "      <td>18711</td>\n",
       "      <td>1131.0</td>\n",
       "      <td>21.0</td>\n",
       "      <td>38.0</td>\n",
       "      <td>2021-04-29 00:00:07</td>\n",
       "    </tr>\n",
       "    <tr>\n",
       "      <th>2</th>\n",
       "      <td>171804</td>\n",
       "      <td>601.0</td>\n",
       "      <td>14.0</td>\n",
       "      <td>49.0</td>\n",
       "      <td>2021-04-29 00:00:10</td>\n",
       "    </tr>\n",
       "    <tr>\n",
       "      <th>3</th>\n",
       "      <td>78463</td>\n",
       "      <td>924.0</td>\n",
       "      <td>22.0</td>\n",
       "      <td>35.0</td>\n",
       "      <td>2021-04-29 00:00:10</td>\n",
       "    </tr>\n",
       "    <tr>\n",
       "      <th>4</th>\n",
       "      <td>78463</td>\n",
       "      <td>1543.0</td>\n",
       "      <td>21.0</td>\n",
       "      <td>45.0</td>\n",
       "      <td>2021-04-29 00:00:11</td>\n",
       "    </tr>\n",
       "    <tr>\n",
       "      <th>...</th>\n",
       "      <td>...</td>\n",
       "      <td>...</td>\n",
       "      <td>...</td>\n",
       "      <td>...</td>\n",
       "      <td>...</td>\n",
       "    </tr>\n",
       "    <tr>\n",
       "      <th>1999995</th>\n",
       "      <td>380391</td>\n",
       "      <td>744.0</td>\n",
       "      <td>21.0</td>\n",
       "      <td>51.0</td>\n",
       "      <td>2021-05-28 23:53:06</td>\n",
       "    </tr>\n",
       "    <tr>\n",
       "      <th>1999996</th>\n",
       "      <td>221263</td>\n",
       "      <td>559.0</td>\n",
       "      <td>18.0</td>\n",
       "      <td>48.0</td>\n",
       "      <td>2021-05-28 23:53:06</td>\n",
       "    </tr>\n",
       "    <tr>\n",
       "      <th>1999997</th>\n",
       "      <td>221264</td>\n",
       "      <td>559.0</td>\n",
       "      <td>18.0</td>\n",
       "      <td>48.0</td>\n",
       "      <td>2021-05-28 23:53:11</td>\n",
       "    </tr>\n",
       "    <tr>\n",
       "      <th>1999998</th>\n",
       "      <td>3724</td>\n",
       "      <td>862.0</td>\n",
       "      <td>20.0</td>\n",
       "      <td>52.0</td>\n",
       "      <td>2021-05-28 23:53:13</td>\n",
       "    </tr>\n",
       "    <tr>\n",
       "      <th>1999999</th>\n",
       "      <td>581877</td>\n",
       "      <td>1121.0</td>\n",
       "      <td>21.0</td>\n",
       "      <td>50.0</td>\n",
       "      <td>2021-05-28 23:53:15</td>\n",
       "    </tr>\n",
       "  </tbody>\n",
       "</table>\n",
       "<p>2000000 rows × 5 columns</p>\n",
       "</div>"
      ],
      "text/plain": [
       "         measurement_count  co2_ppm  temperature_celsius  \\\n",
       "0                    78462   1543.0                 21.0   \n",
       "1                    18711   1131.0                 21.0   \n",
       "2                   171804    601.0                 14.0   \n",
       "3                    78463    924.0                 22.0   \n",
       "4                    78463   1543.0                 21.0   \n",
       "...                    ...      ...                  ...   \n",
       "1999995             380391    744.0                 21.0   \n",
       "1999996             221263    559.0                 18.0   \n",
       "1999997             221264    559.0                 18.0   \n",
       "1999998               3724    862.0                 20.0   \n",
       "1999999             581877   1121.0                 21.0   \n",
       "\n",
       "         relative_humidity_percent           timestamp  \n",
       "0                             45.0 2021-04-29 00:00:06  \n",
       "1                             38.0 2021-04-29 00:00:07  \n",
       "2                             49.0 2021-04-29 00:00:10  \n",
       "3                             35.0 2021-04-29 00:00:10  \n",
       "4                             45.0 2021-04-29 00:00:11  \n",
       "...                            ...                 ...  \n",
       "1999995                       51.0 2021-05-28 23:53:06  \n",
       "1999996                       48.0 2021-05-28 23:53:06  \n",
       "1999997                       48.0 2021-05-28 23:53:11  \n",
       "1999998                       52.0 2021-05-28 23:53:13  \n",
       "1999999                       50.0 2021-05-28 23:53:15  \n",
       "\n",
       "[2000000 rows x 5 columns]"
      ]
     },
     "execution_count": 23,
     "metadata": {},
     "output_type": "execute_result"
    }
   ],
   "source": [
    "dataSet"
   ]
  },
  {
   "cell_type": "code",
   "execution_count": 24,
   "id": "ba437fc8",
   "metadata": {},
   "outputs": [
    {
     "data": {
      "text/plain": [
       "measurement_count                     int64\n",
       "serial_number                        object\n",
       "version                              object\n",
       "co2_ppm                             float64\n",
       "temperature_celsius                 float64\n",
       "relative_humidity_percent           float64\n",
       "timestamp                    datetime64[ns]\n",
       "dtype: object"
      ]
     },
     "execution_count": 24,
     "metadata": {},
     "output_type": "execute_result"
    }
   ],
   "source": [
    "df.dtypes"
   ]
  },
  {
   "cell_type": "code",
   "execution_count": 25,
   "id": "67b5ec45",
   "metadata": {
    "scrolled": true
   },
   "outputs": [
    {
     "data": {
      "text/plain": [
       "<AxesSubplot:>"
      ]
     },
     "execution_count": 25,
     "metadata": {},
     "output_type": "execute_result"
    },
    {
     "data": {
      "image/png": "[encoded data removed]",
      "text/plain": [
       "<Figure size 432x288 with 1 Axes>"
      ]
     },
     "metadata": {
      "needs_background": "light"
     },
     "output_type": "display_data"
    }
   ],
   "source": [
    "df_test2 = df\n",
    "#df_test2['timestamp'] = pd.to_datetime(df_test2['timestamp'])\n",
    "df['timestamp'].plot()"
   ]
  },
  {
   "cell_type": "code",
   "execution_count": 26,
   "id": "e515ab3e",
   "metadata": {
    "scrolled": true
   },
   "outputs": [
    {
     "data": {
      "text/plain": [
       "<AxesSubplot:>"
      ]
     },
     "execution_count": 26,
     "metadata": {},
     "output_type": "execute_result"
    },
    {
     "data": {
      "image/png": "[encoded data removed]",
      "text/plain": [
       "<Figure size 432x288 with 1 Axes>"
      ]
     },
     "metadata": {
      "needs_background": "light"
     },
     "output_type": "display_data"
    }
   ],
   "source": [
    "#df_test2['timestamp'].dt.minute\n",
    "df_test2['hour_sin'] = np.sin(2 * np.pi * df_test2['timestamp'].dt.hour/23.0)\n",
    "df_test2['hour_cos'] = np.cos(2 * np.pi * df_test2['timestamp'].dt.hour/23.0)\n",
    "df_test2['hour_sin'].plot()"
   ]
  },
  {
   "cell_type": "code",
   "execution_count": 27,
   "id": "59755697",
   "metadata": {
    "scrolled": true
   },
   "outputs": [
    {
     "data": {
      "image/png": "[encoded data removed]",
      "text/plain": [
       "<Figure size 432x288 with 1 Axes>"
      ]
     },
     "metadata": {
      "needs_background": "light"
     },
     "output_type": "display_data"
    }
   ],
   "source": [
    "df_test2.plot.scatter('hour_sin', 'hour_cos').set_aspect('equal')"
   ]
  },
  {
   "cell_type": "code",
   "execution_count": 31,
   "id": "309403ac",
   "metadata": {},
   "outputs": [
    {
     "data": {
      "text/plain": [
       "<seaborn.axisgrid.FacetGrid at 0x1b375b3af70>"
      ]
     },
     "execution_count": 31,
     "metadata": {},
     "output_type": "execute_result"
    },
    {
     "data": {
      "image/png": "[encoded data removed]",
      "text/plain": [
       "<Figure size 360x360 with 1 Axes>"
      ]
     },
     "metadata": {
      "needs_background": "light"
     },
     "output_type": "display_data"
    }
   ],
   "source": [
    "import seaborn as sns\n",
    "\n",
    "sns.displot(df_test2['timestamp'])"
   ]
  },
  {
   "cell_type": "code",
   "execution_count": 28,
   "id": "21b1a45e",
   "metadata": {
    "scrolled": false
   },
   "outputs": [
    {
     "data": {
      "image/png": "[encoded data removed]",
      "text/plain": [
       "<Figure size 432x288 with 1 Axes>"
      ]
     },
     "metadata": {
      "needs_background": "light"
     },
     "output_type": "display_data"
    }
   ],
   "source": [
    "df_test2.plot(kind='scatter', x='timestamp', y='co2_ppm', title='CO2 ppm');"
   ]
  }
 ],
 "metadata": {
  "kernelspec": {
   "display_name": "Python 3",
   "language": "python",
   "name": "python3"
  },
  "language_info": {
   "codemirror_mode": {
    "name": "ipython",
    "version": 3
   },
   "file_extension": ".py",
   "mimetype": "text/x-python",
   "name": "python",
   "nbconvert_exporter": "python",
   "pygments_lexer": "ipython3",
   "version": "3.8.8"
  }
 },
 "nbformat": 4,
 "nbformat_minor": 5
}
