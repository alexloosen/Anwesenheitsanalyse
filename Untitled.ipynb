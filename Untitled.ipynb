{
 "cells": [
  {
   "cell_type": "code",
   "execution_count": 235,
   "id": "95cab344",
   "metadata": {},
   "outputs": [],
   "source": [
    "import requests\n",
    "import numpy as np\n",
    "import json\n",
    "import pandas as pd\n",
    "import matplotlib.pyplot as plt\n",
    "import seaborn as sns\n",
    "import datetime as dt"
   ]
  },
  {
   "cell_type": "code",
   "execution_count": 236,
   "id": "a7ea2512",
   "metadata": {},
   "outputs": [],
   "source": [
    "def grab_data():\n",
    "    headers = {\n",
    "        'Authorization': 'al7739s:tWtx4UYhTdUbPHumX3VixMhdi',\n",
    "        'Content-Type': 'application/json',\n",
    "    }\n",
    "\n",
    "    data = '{\"query\":\"SELECT * FROM dfs.co2meter.sensor_data limit 500000\", \"format\":\"json\"}'\n",
    "\n",
    "    response = requests.post('https://proxima.bigdata.fh-aachen.de:8047/query', headers=headers, data=data)\n",
    "    \n",
    "    with open('data.json', 'w') as outfile:\n",
    "        json.dump(response.json(), outfile)"
   ]
  },
  {
   "cell_type": "code",
   "execution_count": 237,
   "id": "ef959b7d",
   "metadata": {},
   "outputs": [],
   "source": [
    "def encode_cyclical(data, col, max_val):\n",
    "    data[col + '_sin'] = np.sin(2 * np.pi * data[col]/max_val)\n",
    "    data[col + '_cos'] = np.cos(2 * np.pi * data[col]/max_val)\n",
    "    return data"
   ]
  },
  {
   "cell_type": "code",
   "execution_count": 238,
   "id": "a113ae61",
   "metadata": {},
   "outputs": [],
   "source": [
    "#grab_data()"
   ]
  },
  {
   "cell_type": "code",
   "execution_count": 239,
   "id": "b347e955",
   "metadata": {},
   "outputs": [],
   "source": [
    "df = pd.read_json('data.json')"
   ]
  },
  {
   "cell_type": "code",
   "execution_count": 240,
   "id": "4a17ad76",
   "metadata": {},
   "outputs": [],
   "source": [
    "selectedData = df[['measurement_count', 'co2_ppm','temperature_celsius', 'relative_humidity_percent', 'timestamp']]\n",
    "cols = ['measurement_count', 'co2_ppm','temperature_celsius', 'relative_humidity_percent', 'timestamp']\n",
    "dataSet = selectedData[cols]"
   ]
  },
  {
   "cell_type": "code",
   "execution_count": 241,
   "id": "8f417afd",
   "metadata": {},
   "outputs": [
    {
     "data": {
      "text/html": [
       "<div>\n",
       "<style scoped>\n",
       "    .dataframe tbody tr th:only-of-type {\n",
       "        vertical-align: middle;\n",
       "    }\n",
       "\n",
       "    .dataframe tbody tr th {\n",
       "        vertical-align: top;\n",
       "    }\n",
       "\n",
       "    .dataframe thead th {\n",
       "        text-align: right;\n",
       "    }\n",
       "</style>\n",
       "<table border=\"1\" class=\"dataframe\">\n",
       "  <thead>\n",
       "    <tr style=\"text-align: right;\">\n",
       "      <th></th>\n",
       "      <th>measurement_count</th>\n",
       "      <th>co2_ppm</th>\n",
       "      <th>temperature_celsius</th>\n",
       "      <th>relative_humidity_percent</th>\n",
       "      <th>timestamp</th>\n",
       "    </tr>\n",
       "  </thead>\n",
       "  <tbody>\n",
       "    <tr>\n",
       "      <th>499995</th>\n",
       "      <td>633336</td>\n",
       "      <td>394</td>\n",
       "      <td>21</td>\n",
       "      <td>58</td>\n",
       "      <td>2021-09-06 04:47:34</td>\n",
       "    </tr>\n",
       "    <tr>\n",
       "      <th>499996</th>\n",
       "      <td>664943</td>\n",
       "      <td>806</td>\n",
       "      <td>22</td>\n",
       "      <td>66</td>\n",
       "      <td>2021-09-06 04:47:34</td>\n",
       "    </tr>\n",
       "    <tr>\n",
       "      <th>499997</th>\n",
       "      <td>31000</td>\n",
       "      <td>876</td>\n",
       "      <td>22</td>\n",
       "      <td>64</td>\n",
       "      <td>2021-09-06 04:47:35</td>\n",
       "    </tr>\n",
       "    <tr>\n",
       "      <th>499998</th>\n",
       "      <td>669062</td>\n",
       "      <td>509</td>\n",
       "      <td>22</td>\n",
       "      <td>51</td>\n",
       "      <td>2021-09-06 04:47:35</td>\n",
       "    </tr>\n",
       "    <tr>\n",
       "      <th>499999</th>\n",
       "      <td>546607</td>\n",
       "      <td>647</td>\n",
       "      <td>22</td>\n",
       "      <td>54</td>\n",
       "      <td>2021-09-06 04:47:38</td>\n",
       "    </tr>\n",
       "  </tbody>\n",
       "</table>\n",
       "</div>"
      ],
      "text/plain": [
       "        measurement_count  co2_ppm  temperature_celsius  \\\n",
       "499995             633336      394                   21   \n",
       "499996             664943      806                   22   \n",
       "499997              31000      876                   22   \n",
       "499998             669062      509                   22   \n",
       "499999             546607      647                   22   \n",
       "\n",
       "        relative_humidity_percent           timestamp  \n",
       "499995                         58 2021-09-06 04:47:34  \n",
       "499996                         66 2021-09-06 04:47:34  \n",
       "499997                         64 2021-09-06 04:47:35  \n",
       "499998                         51 2021-09-06 04:47:35  \n",
       "499999                         54 2021-09-06 04:47:38  "
      ]
     },
     "execution_count": 241,
     "metadata": {},
     "output_type": "execute_result"
    }
   ],
   "source": [
    "dataSet.tail()"
   ]
  },
  {
   "cell_type": "code",
   "execution_count": 242,
   "id": "dc20d123",
   "metadata": {},
   "outputs": [
    {
     "data": {
      "text/plain": [
       "measurement_count                     int64\n",
       "serial_number                        object\n",
       "version                              object\n",
       "co2_ppm                               int64\n",
       "temperature_celsius                   int64\n",
       "relative_humidity_percent             int64\n",
       "timestamp                    datetime64[ns]\n",
       "dtype: object"
      ]
     },
     "execution_count": 242,
     "metadata": {},
     "output_type": "execute_result"
    }
   ],
   "source": [
    "df.dtypes"
   ]
  },
  {
   "cell_type": "code",
   "execution_count": 265,
   "id": "ba44304e",
   "metadata": {},
   "outputs": [
    {
     "data": {
      "image/png": "[encoded data removed]",
      "text/plain": [
       "<Figure size 432x288 with 1 Axes>"
      ]
     },
     "metadata": {
      "needs_background": "light"
     },
     "output_type": "display_data"
    }
   ],
   "source": [
    "x = df['timestamp']\n",
    "y = df['co2_ppm']\n",
    "\n",
    "col = np.where(y<=1000, 'g', np.where(y<1400,'y','r'))\n",
    "\n",
    "plt.scatter(x, y, c=col)\n",
    "plt.title(\"CO2 ppm per Day\")\n",
    "plt.xlabel(\"Day\")\n",
    "plt.ylabel(\"CO2 ppm\")\n",
    "plt.show()"
   ]
  },
  {
   "cell_type": "code",
   "execution_count": 243,
   "id": "3c37859d",
   "metadata": {
    "scrolled": true
   },
   "outputs": [
    {
     "data": {
      "text/plain": [
       "<AxesSubplot:>"
      ]
     },
     "execution_count": 243,
     "metadata": {},
     "output_type": "execute_result"
    },
    {
     "data": {
      "image/png": "[encoded data removed]",
      "text/plain": [
       "<Figure size 432x288 with 1 Axes>"
      ]
     },
     "metadata": {
      "needs_background": "light"
     },
     "output_type": "display_data"
    }
   ],
   "source": [
    "df_test = df\n",
    "df_test = df_test.assign(hoursMinutesSeconds=lambda d: (d['timestamp'].dt.hour.astype('int') * 10000 + \n",
    "                                                        d['timestamp'].dt.minute.astype('int') * 100 + \n",
    "                                                       d['timestamp'].dt.second.astype('int')))\n",
    "\n",
    "df_test['hour_sin'] = np.sin(2 * np.pi * df_test['hoursMinutesSeconds']/235959.0)\n",
    "df_test['hour_cos'] = np.cos(2 * np.pi * df_test['hoursMinutesSeconds']/235959.0)\n",
    "#df['hour_sin'] = np.sin(2 * np.pi * df_test2['timestamp'].dt.hour/23.0)\n",
    "#df['hour_cos'] = np.cos(2 * np.pi * df_test2['timestamp'].dt.hour/23.0)\n",
    "df_test['hour_sin'].plot()"
   ]
  },
  {
   "cell_type": "code",
   "execution_count": 244,
   "id": "87989b7c",
   "metadata": {
    "scrolled": true
   },
   "outputs": [
    {
     "data": {
      "image/png": "[encoded data removed]",
      "text/plain": [
       "<Figure size 432x288 with 1 Axes>"
      ]
     },
     "metadata": {
      "needs_background": "light"
     },
     "output_type": "display_data"
    }
   ],
   "source": [
    "df_test.plot.scatter('hour_sin', 'hour_cos').set_aspect('equal')"
   ]
  },
  {
   "cell_type": "code",
   "execution_count": 246,
   "id": "b19e96bc",
   "metadata": {},
   "outputs": [],
   "source": [
    "mask = np.logical_and(df['timestamp'].dt.day == 6, df['timestamp'].dt.month == 9)\n",
    "df_test = df.loc[mask]"
   ]
  },
  {
   "cell_type": "code",
   "execution_count": 247,
   "id": "91b4143d",
   "metadata": {
    "scrolled": true
   },
   "outputs": [
    {
     "data": {
      "text/html": [
       "<div>\n",
       "<style scoped>\n",
       "    .dataframe tbody tr th:only-of-type {\n",
       "        vertical-align: middle;\n",
       "    }\n",
       "\n",
       "    .dataframe tbody tr th {\n",
       "        vertical-align: top;\n",
       "    }\n",
       "\n",
       "    .dataframe thead th {\n",
       "        text-align: right;\n",
       "    }\n",
       "</style>\n",
       "<table border=\"1\" class=\"dataframe\">\n",
       "  <thead>\n",
       "    <tr style=\"text-align: right;\">\n",
       "      <th></th>\n",
       "      <th>measurement_count</th>\n",
       "      <th>serial_number</th>\n",
       "      <th>version</th>\n",
       "      <th>co2_ppm</th>\n",
       "      <th>temperature_celsius</th>\n",
       "      <th>relative_humidity_percent</th>\n",
       "      <th>timestamp</th>\n",
       "    </tr>\n",
       "  </thead>\n",
       "  <tbody>\n",
       "    <tr>\n",
       "      <th>276318</th>\n",
       "      <td>543245</td>\n",
       "      <td>s_d8bfc0147061_283903</td>\n",
       "      <td>1.0.4</td>\n",
       "      <td>602</td>\n",
       "      <td>22</td>\n",
       "      <td>56</td>\n",
       "      <td>2021-09-06 00:00:01</td>\n",
       "    </tr>\n",
       "    <tr>\n",
       "      <th>276328</th>\n",
       "      <td>543247</td>\n",
       "      <td>s_d8bfc0147061_283903</td>\n",
       "      <td>1.0.4</td>\n",
       "      <td>602</td>\n",
       "      <td>22</td>\n",
       "      <td>56</td>\n",
       "      <td>2021-09-06 00:00:12</td>\n",
       "    </tr>\n",
       "    <tr>\n",
       "      <th>276335</th>\n",
       "      <td>543249</td>\n",
       "      <td>s_d8bfc0147061_283903</td>\n",
       "      <td>1.0.4</td>\n",
       "      <td>601</td>\n",
       "      <td>22</td>\n",
       "      <td>56</td>\n",
       "      <td>2021-09-06 00:00:22</td>\n",
       "    </tr>\n",
       "    <tr>\n",
       "      <th>276345</th>\n",
       "      <td>543251</td>\n",
       "      <td>s_d8bfc0147061_283903</td>\n",
       "      <td>1.0.4</td>\n",
       "      <td>601</td>\n",
       "      <td>22</td>\n",
       "      <td>56</td>\n",
       "      <td>2021-09-06 00:00:32</td>\n",
       "    </tr>\n",
       "    <tr>\n",
       "      <th>276353</th>\n",
       "      <td>543252</td>\n",
       "      <td>s_d8bfc0147061_283903</td>\n",
       "      <td>1.0.4</td>\n",
       "      <td>602</td>\n",
       "      <td>22</td>\n",
       "      <td>56</td>\n",
       "      <td>2021-09-06 00:00:37</td>\n",
       "    </tr>\n",
       "    <tr>\n",
       "      <th>...</th>\n",
       "      <td>...</td>\n",
       "      <td>...</td>\n",
       "      <td>...</td>\n",
       "      <td>...</td>\n",
       "      <td>...</td>\n",
       "      <td>...</td>\n",
       "      <td>...</td>\n",
       "    </tr>\n",
       "    <tr>\n",
       "      <th>499966</th>\n",
       "      <td>546600</td>\n",
       "      <td>s_d8bfc0147061_283903</td>\n",
       "      <td>1.0.4</td>\n",
       "      <td>651</td>\n",
       "      <td>22</td>\n",
       "      <td>54</td>\n",
       "      <td>2021-09-06 04:47:02</td>\n",
       "    </tr>\n",
       "    <tr>\n",
       "      <th>499972</th>\n",
       "      <td>546602</td>\n",
       "      <td>s_d8bfc0147061_283903</td>\n",
       "      <td>1.0.4</td>\n",
       "      <td>651</td>\n",
       "      <td>22</td>\n",
       "      <td>54</td>\n",
       "      <td>2021-09-06 04:47:12</td>\n",
       "    </tr>\n",
       "    <tr>\n",
       "      <th>499982</th>\n",
       "      <td>546604</td>\n",
       "      <td>s_d8bfc0147061_283903</td>\n",
       "      <td>1.0.4</td>\n",
       "      <td>651</td>\n",
       "      <td>22</td>\n",
       "      <td>54</td>\n",
       "      <td>2021-09-06 04:47:22</td>\n",
       "    </tr>\n",
       "    <tr>\n",
       "      <th>499992</th>\n",
       "      <td>546606</td>\n",
       "      <td>s_d8bfc0147061_283903</td>\n",
       "      <td>1.0.4</td>\n",
       "      <td>648</td>\n",
       "      <td>22</td>\n",
       "      <td>54</td>\n",
       "      <td>2021-09-06 04:47:33</td>\n",
       "    </tr>\n",
       "    <tr>\n",
       "      <th>499999</th>\n",
       "      <td>546607</td>\n",
       "      <td>s_d8bfc0147061_283903</td>\n",
       "      <td>1.0.4</td>\n",
       "      <td>647</td>\n",
       "      <td>22</td>\n",
       "      <td>54</td>\n",
       "      <td>2021-09-06 04:47:38</td>\n",
       "    </tr>\n",
       "  </tbody>\n",
       "</table>\n",
       "<p>1685 rows × 7 columns</p>\n",
       "</div>"
      ],
      "text/plain": [
       "        measurement_count          serial_number version  co2_ppm  \\\n",
       "276318             543245  s_d8bfc0147061_283903   1.0.4      602   \n",
       "276328             543247  s_d8bfc0147061_283903   1.0.4      602   \n",
       "276335             543249  s_d8bfc0147061_283903   1.0.4      601   \n",
       "276345             543251  s_d8bfc0147061_283903   1.0.4      601   \n",
       "276353             543252  s_d8bfc0147061_283903   1.0.4      602   \n",
       "...                   ...                    ...     ...      ...   \n",
       "499966             546600  s_d8bfc0147061_283903   1.0.4      651   \n",
       "499972             546602  s_d8bfc0147061_283903   1.0.4      651   \n",
       "499982             546604  s_d8bfc0147061_283903   1.0.4      651   \n",
       "499992             546606  s_d8bfc0147061_283903   1.0.4      648   \n",
       "499999             546607  s_d8bfc0147061_283903   1.0.4      647   \n",
       "\n",
       "        temperature_celsius  relative_humidity_percent           timestamp  \n",
       "276318                   22                         56 2021-09-06 00:00:01  \n",
       "276328                   22                         56 2021-09-06 00:00:12  \n",
       "276335                   22                         56 2021-09-06 00:00:22  \n",
       "276345                   22                         56 2021-09-06 00:00:32  \n",
       "276353                   22                         56 2021-09-06 00:00:37  \n",
       "...                     ...                        ...                 ...  \n",
       "499966                   22                         54 2021-09-06 04:47:02  \n",
       "499972                   22                         54 2021-09-06 04:47:12  \n",
       "499982                   22                         54 2021-09-06 04:47:22  \n",
       "499992                   22                         54 2021-09-06 04:47:33  \n",
       "499999                   22                         54 2021-09-06 04:47:38  \n",
       "\n",
       "[1685 rows x 7 columns]"
      ]
     },
     "execution_count": 247,
     "metadata": {},
     "output_type": "execute_result"
    }
   ],
   "source": [
    "df_test = df_test.loc[df['version'].isin(['1.0.4'])]\n",
    "df_test.head(5000000)"
   ]
  },
  {
   "cell_type": "code",
   "execution_count": 252,
   "id": "71fbf936",
   "metadata": {
    "scrolled": true
   },
   "outputs": [],
   "source": [
    "df_test = df_test.assign(epoch=lambda d: d['timestamp'].astype('int64'))\n",
    "df_test['time_elapsed'] = ((df_test['timestamp'] - df_test['timestamp'].dt.normalize()) / pd.Timedelta('1 second')).astype(int)"
   ]
  },
  {
   "cell_type": "code",
   "execution_count": 253,
   "id": "78ae2a37",
   "metadata": {},
   "outputs": [
    {
     "data": {
      "text/html": [
       "<div>\n",
       "<style scoped>\n",
       "    .dataframe tbody tr th:only-of-type {\n",
       "        vertical-align: middle;\n",
       "    }\n",
       "\n",
       "    .dataframe tbody tr th {\n",
       "        vertical-align: top;\n",
       "    }\n",
       "\n",
       "    .dataframe thead th {\n",
       "        text-align: right;\n",
       "    }\n",
       "</style>\n",
       "<table border=\"1\" class=\"dataframe\">\n",
       "  <thead>\n",
       "    <tr style=\"text-align: right;\">\n",
       "      <th></th>\n",
       "      <th>measurement_count</th>\n",
       "      <th>serial_number</th>\n",
       "      <th>version</th>\n",
       "      <th>co2_ppm</th>\n",
       "      <th>temperature_celsius</th>\n",
       "      <th>relative_humidity_percent</th>\n",
       "      <th>timestamp</th>\n",
       "      <th>epoch</th>\n",
       "      <th>time_elapsed</th>\n",
       "    </tr>\n",
       "  </thead>\n",
       "  <tbody>\n",
       "    <tr>\n",
       "      <th>276318</th>\n",
       "      <td>543245</td>\n",
       "      <td>s_d8bfc0147061_283903</td>\n",
       "      <td>1.0.4</td>\n",
       "      <td>602</td>\n",
       "      <td>22</td>\n",
       "      <td>56</td>\n",
       "      <td>2021-09-06 00:00:01</td>\n",
       "      <td>1630886401000000000</td>\n",
       "      <td>1</td>\n",
       "    </tr>\n",
       "    <tr>\n",
       "      <th>276328</th>\n",
       "      <td>543247</td>\n",
       "      <td>s_d8bfc0147061_283903</td>\n",
       "      <td>1.0.4</td>\n",
       "      <td>602</td>\n",
       "      <td>22</td>\n",
       "      <td>56</td>\n",
       "      <td>2021-09-06 00:00:12</td>\n",
       "      <td>1630886412000000000</td>\n",
       "      <td>12</td>\n",
       "    </tr>\n",
       "    <tr>\n",
       "      <th>276335</th>\n",
       "      <td>543249</td>\n",
       "      <td>s_d8bfc0147061_283903</td>\n",
       "      <td>1.0.4</td>\n",
       "      <td>601</td>\n",
       "      <td>22</td>\n",
       "      <td>56</td>\n",
       "      <td>2021-09-06 00:00:22</td>\n",
       "      <td>1630886422000000000</td>\n",
       "      <td>22</td>\n",
       "    </tr>\n",
       "    <tr>\n",
       "      <th>276345</th>\n",
       "      <td>543251</td>\n",
       "      <td>s_d8bfc0147061_283903</td>\n",
       "      <td>1.0.4</td>\n",
       "      <td>601</td>\n",
       "      <td>22</td>\n",
       "      <td>56</td>\n",
       "      <td>2021-09-06 00:00:32</td>\n",
       "      <td>1630886432000000000</td>\n",
       "      <td>32</td>\n",
       "    </tr>\n",
       "    <tr>\n",
       "      <th>276353</th>\n",
       "      <td>543252</td>\n",
       "      <td>s_d8bfc0147061_283903</td>\n",
       "      <td>1.0.4</td>\n",
       "      <td>602</td>\n",
       "      <td>22</td>\n",
       "      <td>56</td>\n",
       "      <td>2021-09-06 00:00:37</td>\n",
       "      <td>1630886437000000000</td>\n",
       "      <td>37</td>\n",
       "    </tr>\n",
       "    <tr>\n",
       "      <th>...</th>\n",
       "      <td>...</td>\n",
       "      <td>...</td>\n",
       "      <td>...</td>\n",
       "      <td>...</td>\n",
       "      <td>...</td>\n",
       "      <td>...</td>\n",
       "      <td>...</td>\n",
       "      <td>...</td>\n",
       "      <td>...</td>\n",
       "    </tr>\n",
       "    <tr>\n",
       "      <th>499966</th>\n",
       "      <td>546600</td>\n",
       "      <td>s_d8bfc0147061_283903</td>\n",
       "      <td>1.0.4</td>\n",
       "      <td>651</td>\n",
       "      <td>22</td>\n",
       "      <td>54</td>\n",
       "      <td>2021-09-06 04:47:02</td>\n",
       "      <td>1630903622000000000</td>\n",
       "      <td>17222</td>\n",
       "    </tr>\n",
       "    <tr>\n",
       "      <th>499972</th>\n",
       "      <td>546602</td>\n",
       "      <td>s_d8bfc0147061_283903</td>\n",
       "      <td>1.0.4</td>\n",
       "      <td>651</td>\n",
       "      <td>22</td>\n",
       "      <td>54</td>\n",
       "      <td>2021-09-06 04:47:12</td>\n",
       "      <td>1630903632000000000</td>\n",
       "      <td>17232</td>\n",
       "    </tr>\n",
       "    <tr>\n",
       "      <th>499982</th>\n",
       "      <td>546604</td>\n",
       "      <td>s_d8bfc0147061_283903</td>\n",
       "      <td>1.0.4</td>\n",
       "      <td>651</td>\n",
       "      <td>22</td>\n",
       "      <td>54</td>\n",
       "      <td>2021-09-06 04:47:22</td>\n",
       "      <td>1630903642000000000</td>\n",
       "      <td>17242</td>\n",
       "    </tr>\n",
       "    <tr>\n",
       "      <th>499992</th>\n",
       "      <td>546606</td>\n",
       "      <td>s_d8bfc0147061_283903</td>\n",
       "      <td>1.0.4</td>\n",
       "      <td>648</td>\n",
       "      <td>22</td>\n",
       "      <td>54</td>\n",
       "      <td>2021-09-06 04:47:33</td>\n",
       "      <td>1630903653000000000</td>\n",
       "      <td>17253</td>\n",
       "    </tr>\n",
       "    <tr>\n",
       "      <th>499999</th>\n",
       "      <td>546607</td>\n",
       "      <td>s_d8bfc0147061_283903</td>\n",
       "      <td>1.0.4</td>\n",
       "      <td>647</td>\n",
       "      <td>22</td>\n",
       "      <td>54</td>\n",
       "      <td>2021-09-06 04:47:38</td>\n",
       "      <td>1630903658000000000</td>\n",
       "      <td>17258</td>\n",
       "    </tr>\n",
       "  </tbody>\n",
       "</table>\n",
       "<p>1685 rows × 9 columns</p>\n",
       "</div>"
      ],
      "text/plain": [
       "        measurement_count          serial_number version  co2_ppm  \\\n",
       "276318             543245  s_d8bfc0147061_283903   1.0.4      602   \n",
       "276328             543247  s_d8bfc0147061_283903   1.0.4      602   \n",
       "276335             543249  s_d8bfc0147061_283903   1.0.4      601   \n",
       "276345             543251  s_d8bfc0147061_283903   1.0.4      601   \n",
       "276353             543252  s_d8bfc0147061_283903   1.0.4      602   \n",
       "...                   ...                    ...     ...      ...   \n",
       "499966             546600  s_d8bfc0147061_283903   1.0.4      651   \n",
       "499972             546602  s_d8bfc0147061_283903   1.0.4      651   \n",
       "499982             546604  s_d8bfc0147061_283903   1.0.4      651   \n",
       "499992             546606  s_d8bfc0147061_283903   1.0.4      648   \n",
       "499999             546607  s_d8bfc0147061_283903   1.0.4      647   \n",
       "\n",
       "        temperature_celsius  relative_humidity_percent           timestamp  \\\n",
       "276318                   22                         56 2021-09-06 00:00:01   \n",
       "276328                   22                         56 2021-09-06 00:00:12   \n",
       "276335                   22                         56 2021-09-06 00:00:22   \n",
       "276345                   22                         56 2021-09-06 00:00:32   \n",
       "276353                   22                         56 2021-09-06 00:00:37   \n",
       "...                     ...                        ...                 ...   \n",
       "499966                   22                         54 2021-09-06 04:47:02   \n",
       "499972                   22                         54 2021-09-06 04:47:12   \n",
       "499982                   22                         54 2021-09-06 04:47:22   \n",
       "499992                   22                         54 2021-09-06 04:47:33   \n",
       "499999                   22                         54 2021-09-06 04:47:38   \n",
       "\n",
       "                      epoch  time_elapsed  \n",
       "276318  1630886401000000000             1  \n",
       "276328  1630886412000000000            12  \n",
       "276335  1630886422000000000            22  \n",
       "276345  1630886432000000000            32  \n",
       "276353  1630886437000000000            37  \n",
       "...                     ...           ...  \n",
       "499966  1630903622000000000         17222  \n",
       "499972  1630903632000000000         17232  \n",
       "499982  1630903642000000000         17242  \n",
       "499992  1630903653000000000         17253  \n",
       "499999  1630903658000000000         17258  \n",
       "\n",
       "[1685 rows x 9 columns]"
      ]
     },
     "execution_count": 253,
     "metadata": {},
     "output_type": "execute_result"
    }
   ],
   "source": [
    "df_test.head(100000)"
   ]
  },
  {
   "cell_type": "code",
   "execution_count": 264,
   "id": "023306df",
   "metadata": {},
   "outputs": [
    {
     "data": {
      "image/png": "[encoded data removed]",
      "text/plain": [
       "<Figure size 432x288 with 1 Axes>"
      ]
     },
     "metadata": {
      "needs_background": "light"
     },
     "output_type": "display_data"
    }
   ],
   "source": [
    "x = df_test['time_elapsed']\n",
    "y = df_test['co2_ppm']\n",
    "\n",
    "col = np.where(y<=1000, 'g', np.where(y<1400,'y','r'))\n",
    "\n",
    "plt.scatter(x, y, c=col)\n",
    "plt.title(\"CO2 ppm per Day\")\n",
    "plt.xlabel(\"Seconds since Midnight\")\n",
    "plt.ylabel(\"CO2 ppm\")\n",
    "plt.show()"
   ]
  },
  {
   "cell_type": "code",
   "execution_count": null,
   "id": "8358470c",
   "metadata": {},
   "outputs": [],
   "source": []
  }
 ],
 "metadata": {
  "kernelspec": {
   "display_name": "Python 3",
   "language": "python",
   "name": "python3"
  },
  "language_info": {
   "codemirror_mode": {
    "name": "ipython",
    "version": 3
   },
   "file_extension": ".py",
   "mimetype": "text/x-python",
   "name": "python",
   "nbconvert_exporter": "python",
   "pygments_lexer": "ipython3",
   "version": "3.8.8"
  }
 },
 "nbformat": 4,
 "nbformat_minor": 5
}
