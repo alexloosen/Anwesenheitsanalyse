{
 "cells": [
  {
   "cell_type": "code",
   "execution_count": null,
   "id": "3ec01843",
   "metadata": {},
   "outputs": [],
   "source": [
    "def createLSTM(Xtrain):\n",
    "    model = Sequential()\n",
    "    model.add(LSTM(units=1, return_sequences=True, input_shape = (Xtrain.shape[1],Xtrain.shape[2]), activation='relu'))\n",
    "    model.add(Dropout(0.2))\n",
    "    model.add(LSTM(units=1, return_sequences=True, input_shape = (Xtrain.shape[1],Xtrain.shape[2]), activation='relu'))\n",
    "    model.add(Dropout(0.2))\n",
    "\n",
    "    #opt = tf.keras.optimizers.Adam(lr=1e-3, decay=1e-5)\n",
    "    model.compile(loss='mean_squared_error', optimizer='adam', metrics='accuracy')\n",
    "    model.build()\n",
    "    \n",
    "    return model\n",
    "\n",
    "def createNN(Xtrain):\n",
    "    model = tf.keras.models.Sequential()\n",
    "    model.add(tf.keras.layers.Flatten())\n",
    "    model.add(tf.keras.layers.Dense(X_presence.shape[1], input_dim=X_presence.shape[1], activation=tf.nn.relu))\n",
    "    model.add(tf.keras.layers.Dense(round(X_presence.shape[1]/2), activation=tf.nn.relu))\n",
    "    model.add(tf.keras.layers.Dense(round(X_presence.shape[1]/3), activation=tf.nn.relu))\n",
    "    model.add(tf.keras.layers.Dense(1, activation=tf.nn.sigmoid))\n",
    "\n",
    "    model.compile(optimizer='adam',\n",
    "                 loss='binary_crossentropy',\n",
    "                 metrics=['accuracy'])\n",
    "    model.build()\n",
    "    \n",
    "    return model"
   ]
  }
 ],
 "metadata": {
  "kernelspec": {
   "display_name": "Python 3",
   "language": "python",
   "name": "python3"
  },
  "language_info": {
   "codemirror_mode": {
    "name": "ipython",
    "version": 3
   },
   "file_extension": ".py",
   "mimetype": "text/x-python",
   "name": "python",
   "nbconvert_exporter": "python",
   "pygments_lexer": "ipython3",
   "version": "3.8.8"
  }
 },
 "nbformat": 4,
 "nbformat_minor": 5
}
