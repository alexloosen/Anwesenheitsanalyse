{
 "cells": [
  {
   "cell_type": "code",
   "execution_count": null,
   "id": "95cab344",
   "metadata": {},
   "outputs": [],
   "source": [
    "import requests\n",
    "import numpy as np\n",
    "import json\n",
    "import pandas as pd\n",
    "import matplotlib.pyplot as mplt\n",
    "import plotly.express as plt\n",
    "import plotly.graph_objects as go\n",
    "from plotly.subplots import make_subplots\n",
    "import seaborn as sns\n",
    "import datetime as dt"
   ]
  },
  {
   "cell_type": "code",
   "execution_count": null,
   "id": "9a1a01df",
   "metadata": {},
   "outputs": [],
   "source": [
    "def connect_drill(query, caching=True, chunk_size: int = 0):\n",
    "    #username = os.getenv(\"DRILLUSERNAME\")\n",
    "    host = 'https://proxima.bigdata.fh-aachen.de:8047'\n",
    "    username = 'al7739s'\n",
    "    password = 'tWtx4UYhTdUbPHumX3VixMhdi'\n",
    "    headers = {'Content-Type': 'application/json',\n",
    "               'Authorization': '%s:%s' % (username, password)}\n",
    "    #headers = {'Authorization': username + ':' + password}\n",
    "    if caching:\n",
    "        headers[\"Cache-Control\"] = \"max-age=\" + \"1440\"\n",
    "    else:\n",
    "        headers[\"Cache-Control\"] = \"max-age=\" + \"0\"\n",
    "    #if chunk_size > 0:\n",
    "        #headers[\"format\"] = \"chunks:\" + str(chunk_size)\n",
    "    data = {'query': \"{q}\".format(q=query)}\n",
    "\n",
    "    try:\n",
    "        result = requests.post(host + '/query', json=data, headers=headers)\n",
    "    except Exception as e:\n",
    "        print(\"The drill-proxy is not reachable. Please check if you are in the FH-Aachen network.\")\n",
    "        raise (e)\n",
    "\n",
    "    data = None\n",
    "    try:\n",
    "        data = pd.read_json(result.text)\n",
    "        if data.empty:\n",
    "            print('Result of query is empty!')\n",
    "            print('Query was: ' + query)\n",
    "    except ValueError:\n",
    "        print(\"Something went wrong when converting the json string from the datasource to a pandas DataFrame.\")\n",
    "        print(result.text)\n",
    "    return data"
   ]
  },
  {
   "cell_type": "code",
   "execution_count": null,
   "id": "8b97eb61",
   "metadata": {},
   "outputs": [],
   "source": [
    "def get_PIR_presences(room: str = \"H217\"):\n",
    "    dict_rooms = {'H217': 'Elsen', 'H216': 'Galla', 'H215': 'Remmy'}\n",
    "    room = dict_rooms[room]\n",
    "    \n",
    "    query = \"\"\"SELECT `timestamp`,`room`, `presence`, `co2_ppm`, `temperature_celsius`, `relative_humidity_percent` \n",
    "    FROM ipenv.data.`sensor_data` \n",
    "    WHERE `room` LIKE '{room}' \n",
    "    AND `timestamp` > 1627776000 \n",
    "    ORDER BY `timestamp` ASC\n",
    "    LIMIT 1000000\"\"\".format(room=room)\n",
    "    \n",
    "    pir_data = connect_drill(query, caching=True)\n",
    "    \n",
    "    pir_data[\"timestamp\"].dt.tz_localize('Europe/Berlin')\n",
    "    pir_data[\"timestamp\"] = pir_data[\"timestamp\"] + pd.Timedelta(hours=2)\n",
    "\n",
    "    pir_data[\"presence\"] = pir_data[\"presence\"].astype(int)\n",
    "    pir_data.head()\n",
    "    \n",
    "    pir_data = pir_data.groupby(pd.Grouper(key=\"timestamp\", freq=\"5min\")).mean()\\\n",
    "        .round(0).reset_index(drop=False)\n",
    "    \n",
    "    return pir_data"
   ]
  },
  {
   "cell_type": "code",
   "execution_count": null,
   "id": "75e3073d",
   "metadata": {},
   "outputs": [],
   "source": [
    "def encode_cyclical(data, col, max_val):\n",
    "    data[col + '_sin'] = np.sin(2 * np.pi * data[col]/max_val)\n",
    "    data[col + '_cos'] = np.cos(2 * np.pi * data[col]/max_val)\n",
    "    return data"
   ]
  },
  {
   "cell_type": "code",
   "execution_count": null,
   "id": "70cdf8f5",
   "metadata": {},
   "outputs": [],
   "source": [
    "df = get_PIR_presences()"
   ]
  },
  {
   "cell_type": "code",
   "execution_count": null,
   "id": "4a17ad76",
   "metadata": {},
   "outputs": [],
   "source": [
    "df.dtypes"
   ]
  },
  {
   "cell_type": "code",
   "execution_count": null,
   "id": "3d54003f",
   "metadata": {
    "scrolled": false
   },
   "outputs": [],
   "source": [
    "df_test = df.copy()\n",
    "df_test['co2_ppmShifted'] = df_test['co2_ppm'].shift(-200)\n",
    "# Create figure with secondary y-axis\n",
    "fig = make_subplots(specs=[[{\"secondary_y\": True}]])\n",
    "\n",
    "# Add traces\n",
    "fig.add_trace(\n",
    "    go.Scatter(x=df_test['timestamp'], y=df_test['co2_ppm'], name=\"yaxis data\"),\n",
    "    secondary_y=False,\n",
    ")\n",
    "\n",
    "fig.add_trace(\n",
    "    go.Scatter(x=df_test['timestamp'], y=df_test['co2_ppmShifted'], name=\"yaxis2 data\"),\n",
    "    secondary_y=True,\n",
    ")\n",
    "\n",
    "# Add figure title\n",
    "fig.update_layout(\n",
    "    title_text=\"Double Y Axis Example\"\n",
    ")\n",
    "\n",
    "# Set x-axis title\n",
    "fig.update_xaxes(title_text=\"xaxis title\")\n",
    "\n",
    "# Set y-axes titles\n",
    "fig.update_yaxes(title_text=\"<b>primary</b> yaxis title\", secondary_y=False)\n",
    "fig.update_yaxes(title_text=\"<b>secondary</b> yaxis title\", secondary_y=True)\n",
    "\n",
    "fig.show()"
   ]
  },
  {
   "cell_type": "code",
   "execution_count": null,
   "id": "beae9dc0",
   "metadata": {
    "scrolled": false
   },
   "outputs": [],
   "source": [
    "x = df['timestamp']\n",
    "y = df['co2_ppm']\n",
    "fig = plt.line(df, x='timestamp', y='co2_ppm')\n",
    "#fig = plt.scatter(df, x='timestamp', y='co2_ppm')\n",
    "fig.show()"
   ]
  },
  {
   "cell_type": "code",
   "execution_count": null,
   "id": "3c37859d",
   "metadata": {
    "scrolled": true
   },
   "outputs": [],
   "source": [
    "df_test = df\n",
    "df_test = df_test.assign(hoursMinutesSeconds=lambda d: (d['timestamp'].dt.hour.astype('int') * 10000 + \n",
    "                                                        d['timestamp'].dt.minute.astype('int') * 100 + \n",
    "                                                       d['timestamp'].dt.second.astype('int')))\n",
    "\n",
    "df_test['hour_sin'] = np.sin(2 * np.pi * df_test['hoursMinutesSeconds']/235959.0)\n",
    "df_test['hour_cos'] = np.cos(2 * np.pi * df_test['hoursMinutesSeconds']/235959.0)\n",
    "#df['hour_sin'] = np.sin(2 * np.pi * df_test2['timestamp'].dt.hour/23.0)\n",
    "#df['hour_cos'] = np.cos(2 * np.pi * df_test2['timestamp'].dt.hour/23.0)\n",
    "df_test['hour_sin'].plot()"
   ]
  },
  {
   "cell_type": "code",
   "execution_count": null,
   "id": "87989b7c",
   "metadata": {
    "scrolled": true
   },
   "outputs": [],
   "source": [
    "df_test.plot.scatter('hour_sin', 'hour_cos').set_aspect('equal')"
   ]
  },
  {
   "cell_type": "code",
   "execution_count": null,
   "id": "9857c193",
   "metadata": {},
   "outputs": [],
   "source": [
    "mask = np.logical_and(df['timestamp'].dt.day == 1, df['timestamp'].dt.month == 8)\n",
    "df_test = df.loc[mask]"
   ]
  },
  {
   "cell_type": "code",
   "execution_count": null,
   "id": "a39fe711",
   "metadata": {
    "scrolled": true
   },
   "outputs": [],
   "source": [
    "#df_test = df_test.loc[df['version'].isin(['1.0.4'])]\n",
    "#df_test.head(5000000)"
   ]
  },
  {
   "cell_type": "code",
   "execution_count": null,
   "id": "8e67f1dd",
   "metadata": {
    "scrolled": true
   },
   "outputs": [],
   "source": [
    "df_test = df_test.assign(epoch=lambda d: d['timestamp'].astype('int64'))\n",
    "df_test['time_elapsed'] = ((df_test['timestamp'] - df_test['timestamp'].dt.normalize()) / pd.Timedelta('1 second')).astype(int)"
   ]
  },
  {
   "cell_type": "code",
   "execution_count": null,
   "id": "c8cd490c",
   "metadata": {
    "scrolled": true
   },
   "outputs": [],
   "source": [
    "#Linear Regression\n",
    "rng = np.random.RandomState(42)\n",
    "x = 10 * rng.rand(100)\n",
    "y = 2 * x - 1 + rng.rand(100)\n",
    "\n",
    "from sklearn.linear_model import LinearRegression\n",
    "\n",
    "model = LinearRegression(fit_intercept=True)\n",
    "\n",
    "X = x[:, np.newaxis]\n",
    "X.shape\n",
    "\n",
    "model.fit(X,y)\n",
    "\n",
    "xfit = np.linspace(-1, 11)\n",
    "Xfit = xfit[:, np.newaxis]\n",
    "yfit = model.predict(Xfit)"
   ]
  },
  {
   "cell_type": "code",
   "execution_count": null,
   "id": "eaea8fe2",
   "metadata": {},
   "outputs": [],
   "source": [
    "trace1 = go.Scatter(\n",
    "    x=x,\n",
    "    y=y,\n",
    "    mode='markers'\n",
    ")\n",
    "trace2 = go.Scatter(\n",
    "    x=xfit,\n",
    "    y=yfit,\n",
    "    mode='lines'\n",
    ")\n",
    "data = [trace1, trace2]\n",
    "fig = go.Figure(data=data)\n",
    "fig.show()"
   ]
  },
  {
   "cell_type": "code",
   "execution_count": null,
   "id": "c1a4d3e2",
   "metadata": {},
   "outputs": [],
   "source": [
    "iris = sns.load_dataset('iris')\n",
    "iris.head()"
   ]
  },
  {
   "cell_type": "code",
   "execution_count": null,
   "id": "91cfccd8",
   "metadata": {},
   "outputs": [],
   "source": [
    "sns.pairplot(iris, hue='species', height=1.5)"
   ]
  },
  {
   "cell_type": "code",
   "execution_count": null,
   "id": "0a2755b6",
   "metadata": {},
   "outputs": [],
   "source": [
    "X_iris = iris.drop('species', axis=1)\n",
    "y_iris = iris['species']"
   ]
  },
  {
   "cell_type": "code",
   "execution_count": null,
   "id": "241ae2dd",
   "metadata": {},
   "outputs": [],
   "source": [
    "from sklearn.model_selection import train_test_split\n",
    "from sklearn.naive_bayes import GaussianNB\n",
    "from sklearn.metrics import accuracy_score\n",
    "\n",
    "Xtrain, Xtest, ytrain, ytest = train_test_split(X_iris, y_iris, random_state=1)\n",
    "\n",
    "model = GaussianNB()\n",
    "model.fit(Xtrain, ytrain)\n",
    "y_model = model.predict(Xtest)\n",
    "\n",
    "accuracy_score(ytest, y_model)"
   ]
  },
  {
   "cell_type": "code",
   "execution_count": null,
   "id": "dab99071",
   "metadata": {},
   "outputs": [],
   "source": [
    "#Principal Component Analysis\n",
    "from sklearn.decomposition import PCA\n",
    "\n",
    "model = PCA(n_components=2)\n",
    "model.fit(X_iris)\n",
    "X_2D = model.transform(X_iris)"
   ]
  },
  {
   "cell_type": "code",
   "execution_count": null,
   "id": "28d16a55",
   "metadata": {},
   "outputs": [],
   "source": [
    "iris['PCA1'] = X_2D[:, 0]\n",
    "iris['PCA2'] = X_2D[:, 1]\n",
    "sns.lmplot(x=\"PCA1\", y=\"PCA2\", hue='species', data=iris, fit_reg=False)"
   ]
  },
  {
   "cell_type": "code",
   "execution_count": null,
   "id": "fcee49f2",
   "metadata": {},
   "outputs": [],
   "source": []
  }
 ],
 "metadata": {
  "kernelspec": {
   "display_name": "Python 3",
   "language": "python",
   "name": "python3"
  },
  "language_info": {
   "codemirror_mode": {
    "name": "ipython",
    "version": 3
   },
   "file_extension": ".py",
   "mimetype": "text/x-python",
   "name": "python",
   "nbconvert_exporter": "python",
   "pygments_lexer": "ipython3",
   "version": "3.8.8"
  }
 },
 "nbformat": 4,
 "nbformat_minor": 5
}
