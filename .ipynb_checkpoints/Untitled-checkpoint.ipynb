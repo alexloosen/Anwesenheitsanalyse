{
 "cells": [
  {
   "cell_type": "code",
   "execution_count": null,
   "id": "95cab344",
   "metadata": {},
   "outputs": [],
   "source": [
    "import requests\n",
    "\n",
    "headers = {\n",
    "    'Authorization': 'al7739s:tWtx4UYhTdUbPHumX3VixMhdi',\n",
    "    'Content-Type': 'application/json',\n",
    "}\n",
    "\n",
    "data = '{\"query\":\"SELECT * FROM dfs.co2meter.sensor_data limit 10\", \"format\":\"json\"}'\n",
    "\n",
    "response = requests.post('https://proxima.bigdata.fh-aachen.de:8047/query', headers=headers, data=data)\n",
    "print(response.status_code)"
   ]
  },
  {
   "cell_type": "code",
   "execution_count": null,
   "id": "459fc289",
   "metadata": {},
   "outputs": [],
   "source": [
    "print(response.json())"
   ]
  },
  {
   "cell_type": "code",
   "execution_count": null,
   "id": "a113ae61",
   "metadata": {},
   "outputs": [],
   "source": [
    "#import findspark\n",
    "#findspark.init()\n",
    "\n",
    "#from pyspark.sql import SparkSession\n",
    "#spark = SparkSession.builder.appName('Basics').getOrCreate()\n",
    "\n",
    "import json\n",
    "with open('data.json', 'w') as outfile:\n",
    "    json.dump(response.json(), outfile)\n",
    "\n",
    "\n",
    "import pandas as pd\n",
    "df = pd.read_json('data.json')"
   ]
  },
  {
   "cell_type": "code",
   "execution_count": null,
   "id": "6308dcf6",
   "metadata": {
    "scrolled": true
   },
   "outputs": [],
   "source": [
    "df"
   ]
  },
  {
   "cell_type": "code",
   "execution_count": null,
   "id": "4a17ad76",
   "metadata": {},
   "outputs": [],
   "source": [
    "selectedData = df[['measurement_count', 'co2_ppm','temperature_celsius', 'relative_humidity_percent', 'timestamp']]\n",
    "cols = ['measurement_count', 'co2_ppm','temperature_celsius', 'relative_humidity_percent', 'timestamp']\n",
    "dataSet = selectedData[cols]"
   ]
  },
  {
   "cell_type": "code",
   "execution_count": null,
   "id": "8f417afd",
   "metadata": {},
   "outputs": [],
   "source": [
    "dataSet"
   ]
  },
  {
   "cell_type": "code",
   "execution_count": null,
   "id": "4b229f4f",
   "metadata": {},
   "outputs": [],
   "source": [
    "values = df['co2_ppm']"
   ]
  },
  {
   "cell_type": "code",
   "execution_count": null,
   "id": "87c5a91d",
   "metadata": {},
   "outputs": [],
   "source": [
    "for x in values:\n",
    "  print(x)"
   ]
  }
 ],
 "metadata": {
  "kernelspec": {
   "display_name": "Python 3",
   "language": "python",
   "name": "python3"
  },
  "language_info": {
   "codemirror_mode": {
    "name": "ipython",
    "version": 3
   },
   "file_extension": ".py",
   "mimetype": "text/x-python",
   "name": "python",
   "nbconvert_exporter": "python",
   "pygments_lexer": "ipython3",
   "version": "3.8.8"
  }
 },
 "nbformat": 4,
 "nbformat_minor": 5
}
